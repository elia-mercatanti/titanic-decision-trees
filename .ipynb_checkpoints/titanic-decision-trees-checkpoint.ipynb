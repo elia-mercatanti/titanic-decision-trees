{
 "cells": [
  {
   "cell_type": "markdown",
   "metadata": {},
   "source": [
    "# Predire la Sopravvivenza sul Titanic con gli Alberi Decisionali"
   ]
  },
  {
   "cell_type": "markdown",
   "metadata": {},
   "source": [
    "<img src=\"slides/imgs/titanic.jpg\" alt=\"Il Titanic\" width=\"1000\"/>"
   ]
  },
  {
   "cell_type": "markdown",
   "metadata": {},
   "source": [
    "L'affondamento del Titanic è uno dei naufragi più famigerati della storia. Il 15 aprile 1912, durante il suo viaggio inaugurale, l'RMS Titanic, ampiamente considerato \"inaffondabile\", affondò dopo essersi scontrato con un iceberg. Sfortunatamente, non c'erano abbastanza scialuppe di salvataggio per tutti a bordo, provocando la morte di 1502 su 2224 passeggeri e membri dell'equipaggio. Sebbene ci fosse un elemento di fortuna coinvolto nella sopravvivenza, sembra che alcuni gruppi di persone fossero più propensi a sopravvivere rispetto ad altri.\n",
    "\n",
    "In questo progetto, costruiamo dei modelli predittivi che rispondano alla domanda: \"Che tipo di persone avevano maggiori probabilità di sopravvivere?\" utilizzando i dati dei passeggeri (ad esempio nome, età, sesso, classe socioeconomica, ecc.) e che siano in grado di predire quali passeggeri del Titanic sono sopravvissuti o meno."
   ]
  },
  {
   "cell_type": "markdown",
   "metadata": {},
   "source": [
    "## Setup del dataset"
   ]
  },
  {
   "cell_type": "markdown",
   "metadata": {},
   "source": [
    "Carichiamo le dipendenze:"
   ]
  },
  {
   "cell_type": "code",
   "execution_count": 1,
   "metadata": {},
   "outputs": [
    {
     "name": "stderr",
     "output_type": "stream",
     "text": [
      "Loading required package: colorspace\n",
      "\n",
      "Loading required package: grid\n",
      "\n",
      "VIM is ready to use.\n",
      "\n",
      "\n",
      "Suggestions and bug-reports can be submitted at: https://github.com/statistikat/VIM/issues\n",
      "\n",
      "\n",
      "Attaching package: 'VIM'\n",
      "\n",
      "\n",
      "The following object is masked from 'package:datasets':\n",
      "\n",
      "    sleep\n",
      "\n",
      "\n",
      "\n",
      "Attaching package: 'dplyr'\n",
      "\n",
      "\n",
      "The following objects are masked from 'package:plyr':\n",
      "\n",
      "    arrange, count, desc, failwith, id, mutate, rename, summarise,\n",
      "    summarize\n",
      "\n",
      "\n",
      "The following objects are masked from 'package:stats':\n",
      "\n",
      "    filter, lag\n",
      "\n",
      "\n",
      "The following objects are masked from 'package:base':\n",
      "\n",
      "    intersect, setdiff, setequal, union\n",
      "\n",
      "\n",
      "Loading required package: survival\n",
      "\n",
      "Loading required package: tibble\n",
      "\n",
      "Loading required package: bitops\n",
      "\n",
      "Rattle: A free graphical interface for data science with R.\n",
      "Version 5.4.0 Copyright (c) 2006-2020 Togaware Pty Ltd.\n",
      "Type 'rattle()' to shake, rattle, and roll your data.\n",
      "\n",
      "\n",
      "Attaching package: 'rattle'\n",
      "\n",
      "\n",
      "The following object is masked from 'package:VIM':\n",
      "\n",
      "    wine\n",
      "\n",
      "\n",
      "Loading required package: mvtnorm\n",
      "\n",
      "Loading required package: modeltools\n",
      "\n",
      "Loading required package: stats4\n",
      "\n",
      "\n",
      "Attaching package: 'modeltools'\n",
      "\n",
      "\n",
      "The following object is masked from 'package:plyr':\n",
      "\n",
      "    empty\n",
      "\n",
      "\n",
      "Loading required package: strucchange\n",
      "\n",
      "Loading required package: zoo\n",
      "\n",
      "\n",
      "Attaching package: 'zoo'\n",
      "\n",
      "\n",
      "The following objects are masked from 'package:base':\n",
      "\n",
      "    as.Date, as.Date.numeric\n",
      "\n",
      "\n",
      "Loading required package: sandwich\n",
      "\n",
      "Loading required package: partykit\n",
      "\n",
      "Loading required package: libcoin\n",
      "\n",
      "\n",
      "Attaching package: 'partykit'\n",
      "\n",
      "\n",
      "The following objects are masked from 'package:party':\n",
      "\n",
      "    cforest, ctree, ctree_control, edge_simple, mob, mob_control,\n",
      "    node_barplot, node_bivplot, node_boxplot, node_inner, node_surv,\n",
      "    node_terminal, varimp\n",
      "\n",
      "\n",
      "randomForest 4.6-14\n",
      "\n",
      "Type rfNews() to see new features/changes/bug fixes.\n",
      "\n",
      "\n",
      "Attaching package: 'randomForest'\n",
      "\n",
      "\n",
      "The following object is masked from 'package:rattle':\n",
      "\n",
      "    importance\n",
      "\n",
      "\n",
      "The following object is masked from 'package:dplyr':\n",
      "\n",
      "    combine\n",
      "\n",
      "\n",
      "The following object is masked from 'package:ggplot2':\n",
      "\n",
      "    margin\n",
      "\n",
      "\n",
      "Loading required package: lattice\n",
      "\n",
      "\n",
      "Attaching package: 'caret'\n",
      "\n",
      "\n",
      "The following object is masked from 'package:survival':\n",
      "\n",
      "    cluster\n",
      "\n",
      "\n",
      "Type 'citation(\"pROC\")' for a citation.\n",
      "\n",
      "\n",
      "Attaching package: 'pROC'\n",
      "\n",
      "\n",
      "The following object is masked from 'package:colorspace':\n",
      "\n",
      "    coords\n",
      "\n",
      "\n",
      "The following objects are masked from 'package:stats':\n",
      "\n",
      "    cov, smooth, var\n",
      "\n",
      "\n"
     ]
    }
   ],
   "source": [
    "library(VIM)\n",
    "library(ggplot2)\n",
    "library(naniar)\n",
    "library(rpart)\n",
    "library(plyr)\n",
    "library(dplyr)\n",
    "library(timereg)\n",
    "library(caTools)\n",
    "library(tree)\n",
    "library(rpart)\n",
    "library(rpart.plot)\n",
    "library(rattle)\n",
    "library(party)\n",
    "library(evtree)\n",
    "library(randomForest)\n",
    "library(e1071)\n",
    "library(caret)\n",
    "library(pROC)"
   ]
  },
  {
   "cell_type": "markdown",
   "metadata": {},
   "source": [
    "Carichiamo il dataset del Titanic e vediamo da cosa è composto:"
   ]
  },
  {
   "cell_type": "code",
   "execution_count": 2,
   "metadata": {},
   "outputs": [
    {
     "data": {
      "text/html": [
       "<table>\n",
       "<caption>A data.frame: 6 × 12</caption>\n",
       "<thead>\n",
       "\t<tr><th></th><th scope=col>PassengerId</th><th scope=col>Survived</th><th scope=col>Pclass</th><th scope=col>Name</th><th scope=col>Sex</th><th scope=col>Age</th><th scope=col>SibSp</th><th scope=col>Parch</th><th scope=col>Ticket</th><th scope=col>Fare</th><th scope=col>Cabin</th><th scope=col>Embarked</th></tr>\n",
       "\t<tr><th></th><th scope=col>&lt;int&gt;</th><th scope=col>&lt;int&gt;</th><th scope=col>&lt;int&gt;</th><th scope=col>&lt;chr&gt;</th><th scope=col>&lt;chr&gt;</th><th scope=col>&lt;dbl&gt;</th><th scope=col>&lt;int&gt;</th><th scope=col>&lt;int&gt;</th><th scope=col>&lt;chr&gt;</th><th scope=col>&lt;dbl&gt;</th><th scope=col>&lt;chr&gt;</th><th scope=col>&lt;chr&gt;</th></tr>\n",
       "</thead>\n",
       "<tbody>\n",
       "\t<tr><th scope=row>1</th><td>1</td><td>0</td><td>3</td><td>Braund, Mr. Owen Harris                            </td><td>male  </td><td>22</td><td>1</td><td>0</td><td>A/5 21171       </td><td> 7.2500</td><td>NA  </td><td>S</td></tr>\n",
       "\t<tr><th scope=row>2</th><td>2</td><td>1</td><td>1</td><td>Cumings, Mrs. John Bradley (Florence Briggs Thayer)</td><td>female</td><td>38</td><td>1</td><td>0</td><td>PC 17599        </td><td>71.2833</td><td>C85 </td><td>C</td></tr>\n",
       "\t<tr><th scope=row>3</th><td>3</td><td>1</td><td>3</td><td>Heikkinen, Miss. Laina                             </td><td>female</td><td>26</td><td>0</td><td>0</td><td>STON/O2. 3101282</td><td> 7.9250</td><td>NA  </td><td>S</td></tr>\n",
       "\t<tr><th scope=row>4</th><td>4</td><td>1</td><td>1</td><td>Futrelle, Mrs. Jacques Heath (Lily May Peel)       </td><td>female</td><td>35</td><td>1</td><td>0</td><td>113803          </td><td>53.1000</td><td>C123</td><td>S</td></tr>\n",
       "\t<tr><th scope=row>5</th><td>5</td><td>0</td><td>3</td><td>Allen, Mr. William Henry                           </td><td>male  </td><td>35</td><td>0</td><td>0</td><td>373450          </td><td> 8.0500</td><td>NA  </td><td>S</td></tr>\n",
       "\t<tr><th scope=row>6</th><td>6</td><td>0</td><td>3</td><td>Moran, Mr. James                                   </td><td>male  </td><td>NA</td><td>0</td><td>0</td><td>330877          </td><td> 8.4583</td><td>NA  </td><td>Q</td></tr>\n",
       "</tbody>\n",
       "</table>\n"
      ],
      "text/latex": [
       "A data.frame: 6 × 12\n",
       "\\begin{tabular}{r|llllllllllll}\n",
       "  & PassengerId & Survived & Pclass & Name & Sex & Age & SibSp & Parch & Ticket & Fare & Cabin & Embarked\\\\\n",
       "  & <int> & <int> & <int> & <chr> & <chr> & <dbl> & <int> & <int> & <chr> & <dbl> & <chr> & <chr>\\\\\n",
       "\\hline\n",
       "\t1 & 1 & 0 & 3 & Braund, Mr. Owen Harris                             & male   & 22 & 1 & 0 & A/5 21171        &  7.2500 & NA   & S\\\\\n",
       "\t2 & 2 & 1 & 1 & Cumings, Mrs. John Bradley (Florence Briggs Thayer) & female & 38 & 1 & 0 & PC 17599         & 71.2833 & C85  & C\\\\\n",
       "\t3 & 3 & 1 & 3 & Heikkinen, Miss. Laina                              & female & 26 & 0 & 0 & STON/O2. 3101282 &  7.9250 & NA   & S\\\\\n",
       "\t4 & 4 & 1 & 1 & Futrelle, Mrs. Jacques Heath (Lily May Peel)        & female & 35 & 1 & 0 & 113803           & 53.1000 & C123 & S\\\\\n",
       "\t5 & 5 & 0 & 3 & Allen, Mr. William Henry                            & male   & 35 & 0 & 0 & 373450           &  8.0500 & NA   & S\\\\\n",
       "\t6 & 6 & 0 & 3 & Moran, Mr. James                                    & male   & NA & 0 & 0 & 330877           &  8.4583 & NA   & Q\\\\\n",
       "\\end{tabular}\n"
      ],
      "text/markdown": [
       "\n",
       "A data.frame: 6 × 12\n",
       "\n",
       "| <!--/--> | PassengerId &lt;int&gt; | Survived &lt;int&gt; | Pclass &lt;int&gt; | Name &lt;chr&gt; | Sex &lt;chr&gt; | Age &lt;dbl&gt; | SibSp &lt;int&gt; | Parch &lt;int&gt; | Ticket &lt;chr&gt; | Fare &lt;dbl&gt; | Cabin &lt;chr&gt; | Embarked &lt;chr&gt; |\n",
       "|---|---|---|---|---|---|---|---|---|---|---|---|---|\n",
       "| 1 | 1 | 0 | 3 | Braund, Mr. Owen Harris                             | male   | 22 | 1 | 0 | A/5 21171        |  7.2500 | NA   | S |\n",
       "| 2 | 2 | 1 | 1 | Cumings, Mrs. John Bradley (Florence Briggs Thayer) | female | 38 | 1 | 0 | PC 17599         | 71.2833 | C85  | C |\n",
       "| 3 | 3 | 1 | 3 | Heikkinen, Miss. Laina                              | female | 26 | 0 | 0 | STON/O2. 3101282 |  7.9250 | NA   | S |\n",
       "| 4 | 4 | 1 | 1 | Futrelle, Mrs. Jacques Heath (Lily May Peel)        | female | 35 | 1 | 0 | 113803           | 53.1000 | C123 | S |\n",
       "| 5 | 5 | 0 | 3 | Allen, Mr. William Henry                            | male   | 35 | 0 | 0 | 373450           |  8.0500 | NA   | S |\n",
       "| 6 | 6 | 0 | 3 | Moran, Mr. James                                    | male   | NA | 0 | 0 | 330877           |  8.4583 | NA   | Q |\n",
       "\n"
      ],
      "text/plain": [
       "  PassengerId Survived Pclass\n",
       "1 1           0        3     \n",
       "2 2           1        1     \n",
       "3 3           1        3     \n",
       "4 4           1        1     \n",
       "5 5           0        3     \n",
       "6 6           0        3     \n",
       "  Name                                                Sex    Age SibSp Parch\n",
       "1 Braund, Mr. Owen Harris                             male   22  1     0    \n",
       "2 Cumings, Mrs. John Bradley (Florence Briggs Thayer) female 38  1     0    \n",
       "3 Heikkinen, Miss. Laina                              female 26  0     0    \n",
       "4 Futrelle, Mrs. Jacques Heath (Lily May Peel)        female 35  1     0    \n",
       "5 Allen, Mr. William Henry                            male   35  0     0    \n",
       "6 Moran, Mr. James                                    male   NA  0     0    \n",
       "  Ticket           Fare    Cabin Embarked\n",
       "1 A/5 21171         7.2500 NA    S       \n",
       "2 PC 17599         71.2833 C85   C       \n",
       "3 STON/O2. 3101282  7.9250 NA    S       \n",
       "4 113803           53.1000 C123  S       \n",
       "5 373450            8.0500 NA    S       \n",
       "6 330877            8.4583 NA    Q       "
      ]
     },
     "metadata": {},
     "output_type": "display_data"
    }
   ],
   "source": [
    "# Load Dataset\n",
    "original_titanic_train <- read.csv(\"dataset/titanic-train.csv\", na.strings=\"\")\n",
    "original_titanic_test <- read.csv(\"dataset/titanic-test.csv\", na.strings=\"\")\n",
    "\n",
    "# Print Dataset\n",
    "head(original_titanic_train)"
   ]
  },
  {
   "cell_type": "markdown",
   "metadata": {},
   "source": [
    "I dati sono stati suddivisi in due gruppi:\n",
    "- Set di training (titanic-train.csv)\n",
    "- Set di test (titanic-test.csv)\n",
    "\n",
    "Il set di training è utilizzato per creare i modelli degli alberi di decisione, contiene la variabile \"Survived\", la nostra variabile di risposta che indica se un passeggero è sopravvisuto o meno.\n",
    "\n",
    "Il set di test invece dovrebbe essere utilizzato per vedere il rendimento dei modelli su dati non visualizzati ma non viene fornita la variabile \"Survived\" per ogni passeggero (Questo perchè questo set è pensato per utilizzarlo nella competizione di Kaggle sul dataset del Titanic dove prevedere i corretti sopravissuti è proprio la sfida della competizione). Utilizzeremo quindi il test set solo per alcune analisi utili sul dataset del titanic mentre per addestrare e valutare i modelli creati in seguito utilizzeremo solo il training set diviso appositamente."
   ]
  },
  {
   "cell_type": "code",
   "execution_count": 3,
   "metadata": {},
   "outputs": [
    {
     "data": {
      "text/plain": [
       "  PassengerId       Survived          Pclass          Name          \n",
       " Min.   :  1.0   Min.   :0.0000   Min.   :1.000   Length:891        \n",
       " 1st Qu.:223.5   1st Qu.:0.0000   1st Qu.:2.000   Class :character  \n",
       " Median :446.0   Median :0.0000   Median :3.000   Mode  :character  \n",
       " Mean   :446.0   Mean   :0.3838   Mean   :2.309                     \n",
       " 3rd Qu.:668.5   3rd Qu.:1.0000   3rd Qu.:3.000                     \n",
       " Max.   :891.0   Max.   :1.0000   Max.   :3.000                     \n",
       "                                                                    \n",
       "     Sex                 Age            SibSp           Parch       \n",
       " Length:891         Min.   : 0.42   Min.   :0.000   Min.   :0.0000  \n",
       " Class :character   1st Qu.:20.12   1st Qu.:0.000   1st Qu.:0.0000  \n",
       " Mode  :character   Median :28.00   Median :0.000   Median :0.0000  \n",
       "                    Mean   :29.70   Mean   :0.523   Mean   :0.3816  \n",
       "                    3rd Qu.:38.00   3rd Qu.:1.000   3rd Qu.:0.0000  \n",
       "                    Max.   :80.00   Max.   :8.000   Max.   :6.0000  \n",
       "                    NA's   :177                                     \n",
       "    Ticket               Fare           Cabin             Embarked        \n",
       " Length:891         Min.   :  0.00   Length:891         Length:891        \n",
       " Class :character   1st Qu.:  7.91   Class :character   Class :character  \n",
       " Mode  :character   Median : 14.45   Mode  :character   Mode  :character  \n",
       "                    Mean   : 32.20                                        \n",
       "                    3rd Qu.: 31.00                                        \n",
       "                    Max.   :512.33                                        \n",
       "                                                                          "
      ]
     },
     "metadata": {},
     "output_type": "display_data"
    }
   ],
   "source": [
    "summary(original_titanic_train)"
   ]
  },
  {
   "cell_type": "markdown",
   "metadata": {},
   "source": [
    "Il dataset è composto da 12 variabili:\n",
    "- **Survival**: indica se il passeggero è sopravvissuto o meno (0 = No, 1 = Si). Rappresenta la nostra variabile di risposta.\n",
    "- **PassengerId**: id assegnato al passeggero.\n",
    "- **Name**: nome, cognome e titolo del passeggero.\n",
    "- **Pclass**: classe del bilgietto (1 = 1st, 2 = 2nd, 3 = 3rd).\n",
    "- **Sex**: sesso del passeggero.\n",
    "- **Age**: età in anni del passeggero.\n",
    "- **Sibsp**: numero di fratelli/coniugi a bordo del Titanic.\n",
    "- **Parch**: numero di genitori/figli a bordo del Titanic.\n",
    "- **Ticket**: numero del biglietto.\n",
    "- **Fare**: tariffa del passeggero.\n",
    "- **Cabin**: numero della cabina.\n",
    "- **Embarked**: porto di imbarcazione (C = Cherbourg, Q = Queenstown, S = Southampton)."
   ]
  },
  {
   "cell_type": "markdown",
   "metadata": {},
   "source": [
    "Uniamo i dati di train e test per pulire il dataset originale e creare eventualmente nuove variabili."
   ]
  },
  {
   "cell_type": "code",
   "execution_count": 4,
   "metadata": {},
   "outputs": [
    {
     "name": "stdout",
     "output_type": "stream",
     "text": [
      "'data.frame':\t1309 obs. of  12 variables:\n",
      " $ PassengerId: int  1 2 3 4 5 6 7 8 9 10 ...\n",
      " $ Survived   : int  0 1 1 1 0 0 0 0 1 1 ...\n",
      " $ Pclass     : int  3 1 3 1 3 3 1 3 3 2 ...\n",
      " $ Name       : chr  \"Braund, Mr. Owen Harris\" \"Cumings, Mrs. John Bradley (Florence Briggs Thayer)\" \"Heikkinen, Miss. Laina\" \"Futrelle, Mrs. Jacques Heath (Lily May Peel)\" ...\n",
      " $ Sex        : chr  \"male\" \"female\" \"female\" \"female\" ...\n",
      " $ Age        : num  22 38 26 35 35 NA 54 2 27 14 ...\n",
      " $ SibSp      : int  1 1 0 1 0 0 0 3 0 1 ...\n",
      " $ Parch      : int  0 0 0 0 0 0 0 1 2 0 ...\n",
      " $ Ticket     : chr  \"A/5 21171\" \"PC 17599\" \"STON/O2. 3101282\" \"113803\" ...\n",
      " $ Fare       : num  7.25 71.28 7.92 53.1 8.05 ...\n",
      " $ Cabin      : chr  NA \"C85\" NA \"C123\" ...\n",
      " $ Embarked   : chr  \"S\" \"C\" \"S\" \"S\" ...\n"
     ]
    }
   ],
   "source": [
    "# Create survived column in test set\n",
    "original_titanic_test$Survived <- NA\n",
    "\n",
    "# Bind test and train data to create new variables in both sets\n",
    "titanic_full <- rbind(original_titanic_train, original_titanic_test)\n",
    "str(titanic_full)"
   ]
  },
  {
   "cell_type": "markdown",
   "metadata": {},
   "source": [
    "Infine dato che costruiremo in seguito un modello di classificazione, possiamo formattare in fattori le variabili appropriate, ovvero, \"Survived\", \"Pclass\", \"Sex\" e \"Embarked\"."
   ]
  },
  {
   "cell_type": "code",
   "execution_count": 5,
   "metadata": {},
   "outputs": [],
   "source": [
    "titanic_full$Survived <- as.factor(titanic_full$Survived)\n",
    "titanic_full$Pclass <- as.factor(titanic_full$Pclass)\n",
    "titanic_full$Sex <- as.factor(titanic_full$Sex)\n",
    "titanic_full$Embarked <- as.factor(titanic_full$Embarked)"
   ]
  },
  {
   "cell_type": "markdown",
   "metadata": {},
   "source": [
    "## Analisi Dati Mancanti"
   ]
  },
  {
   "cell_type": "markdown",
   "metadata": {},
   "source": [
    "Controlliamo quanti sono i dati mancanti:"
   ]
  },
  {
   "cell_type": "code",
   "execution_count": 6,
   "metadata": {},
   "outputs": [
    {
     "data": {
      "text/html": [
       "<style>\n",
       ".dl-inline {width: auto; margin:0; padding: 0}\n",
       ".dl-inline>dt, .dl-inline>dd {float: none; width: auto; display: inline-block}\n",
       ".dl-inline>dt::after {content: \":\\0020\"; padding-right: .5ex}\n",
       ".dl-inline>dt:not(:first-of-type) {padding-left: .5ex}\n",
       "</style><dl class=dl-inline><dt>PassengerId</dt><dd>0</dd><dt>Pclass</dt><dd>0</dd><dt>Name</dt><dd>0</dd><dt>Sex</dt><dd>0</dd><dt>Age</dt><dd>263</dd><dt>SibSp</dt><dd>0</dd><dt>Parch</dt><dd>0</dd><dt>Ticket</dt><dd>0</dd><dt>Fare</dt><dd>1</dd><dt>Cabin</dt><dd>1014</dd><dt>Embarked</dt><dd>2</dd></dl>\n"
      ],
      "text/latex": [
       "\\begin{description*}\n",
       "\\item[PassengerId] 0\n",
       "\\item[Pclass] 0\n",
       "\\item[Name] 0\n",
       "\\item[Sex] 0\n",
       "\\item[Age] 263\n",
       "\\item[SibSp] 0\n",
       "\\item[Parch] 0\n",
       "\\item[Ticket] 0\n",
       "\\item[Fare] 1\n",
       "\\item[Cabin] 1014\n",
       "\\item[Embarked] 2\n",
       "\\end{description*}\n"
      ],
      "text/markdown": [
       "PassengerId\n",
       ":   0Pclass\n",
       ":   0Name\n",
       ":   0Sex\n",
       ":   0Age\n",
       ":   263SibSp\n",
       ":   0Parch\n",
       ":   0Ticket\n",
       ":   0Fare\n",
       ":   1Cabin\n",
       ":   1014Embarked\n",
       ":   2\n",
       "\n"
      ],
      "text/plain": [
       "PassengerId      Pclass        Name         Sex         Age       SibSp \n",
       "          0           0           0           0         263           0 \n",
       "      Parch      Ticket        Fare       Cabin    Embarked \n",
       "          0           0           1        1014           2 "
      ]
     },
     "metadata": {},
     "output_type": "display_data"
    }
   ],
   "source": [
    "miss <- sapply(titanic_full[-2], function(x) sum(is.na(x)))\n",
    "miss"
   ]
  },
  {
   "cell_type": "code",
   "execution_count": 7,
   "metadata": {},
   "outputs": [
    {
     "name": "stdout",
     "output_type": "stream",
     "text": [
      "\n",
      " Variables sorted by number of missings: \n",
      "    Variable        Count\n",
      "       Cabin 0.7746371276\n",
      "         Age 0.2009167303\n",
      "    Embarked 0.0015278839\n",
      "        Fare 0.0007639419\n",
      " PassengerId 0.0000000000\n",
      "      Pclass 0.0000000000\n",
      "        Name 0.0000000000\n",
      "         Sex 0.0000000000\n",
      "       SibSp 0.0000000000\n",
      "       Parch 0.0000000000\n",
      "      Ticket 0.0000000000\n"
     ]
    },
    {
     "data": {
      "image/png": "[encoded data removed]",
      "text/plain": [
       "plot without title"
      ]
     },
     "metadata": {
      "image/png": {
       "height": 420,
       "width": 420
      }
     },
     "output_type": "display_data"
    }
   ],
   "source": [
    "aggr(titanic_full[, (-2)], sortVars=TRUE, cex.axis=.7)"
   ]
  },
  {
   "cell_type": "markdown",
   "metadata": {},
   "source": [
    "Possiamo vedere che le variabili CABIN, AGE, EMBARKED e FARE hanno dati mancanti."
   ]
  },
  {
   "cell_type": "code",
   "execution_count": 8,
   "metadata": {},
   "outputs": [
    {
     "data": {
      "image/png": "[encoded data removed]",
      "text/plain": [
       "plot without title"
      ]
     },
     "metadata": {
      "image/png": {
       "height": 420,
       "width": 420
      }
     },
     "output_type": "display_data"
    }
   ],
   "source": [
    "# Percentage in missing values between male and female\n",
    "gg_miss_fct(x = titanic_full[ , -2], fct = Sex) + labs(title = \"Missing Values in Titanic Dataset Between Male and Female\")"
   ]
  },
  {
   "cell_type": "markdown",
   "metadata": {},
   "source": [
    "\"Età\" e \"Cabina\" mancano di quantità significative di dati, con una percentuale leggermente superiore di dettagli mancanti della cabina per passegeri maschi. Possiamo verificare se le informazioni sulla cabina mancanti sono distribuite uniformemente nella \"classe\" dei passeggeri:"
   ]
  },
  {
   "cell_type": "code",
   "execution_count": 9,
   "metadata": {},
   "outputs": [
    {
     "data": {
      "image/png": "[encoded data removed]",
      "text/plain": [
       "plot without title"
      ]
     },
     "metadata": {
      "image/png": {
       "height": 420,
       "width": 420
      }
     },
     "output_type": "display_data"
    }
   ],
   "source": [
    "# Percentage of missing information across passenger “class”\n",
    "gg_miss_fct(x = titanic_full[ , -2], fct = Pclass) + labs(title = \"Missing Values in Titanic Dataset Across Passenger “class”\")"
   ]
  },
  {
   "cell_type": "markdown",
   "metadata": {},
   "source": [
    "Non sorprende che ci siano più informazioni mancanti nelle classi inferiori. Probabilmente vengano mantenuti record storici migliori per i passeggeri benestanti.\n",
    "\n",
    "Infine esaminiamo i dati mancanti per Cabin x SibSp (cioè il numero di fratelli)"
   ]
  },
  {
   "cell_type": "code",
   "execution_count": 10,
   "metadata": {},
   "outputs": [
    {
     "data": {
      "image/png": "[encoded data removed]",
      "text/plain": [
       "plot without title"
      ]
     },
     "metadata": {
      "image/png": {
       "height": 420,
       "width": 420
      }
     },
     "output_type": "display_data"
    }
   ],
   "source": [
    "# Percentage of missing information across passenger siblings\n",
    "gg_miss_fct(x = titanic_full[ , -2], fct = SibSp ) + labs(title = \"Missing Values in Titanic Dataset Across Passenger Siblings\")"
   ]
  },
  {
   "cell_type": "markdown",
   "metadata": {},
   "source": [
    "I dati mancanti per Cabin sembrano aumentare con l'aumentare di SibSp (cioè più fratelli == più dati mancanti). Ciò potrebbe suggerire un pregiudizio sistematico nella tenuta dei registri delle cabine ad alta occupazione."
   ]
  },
  {
   "cell_type": "markdown",
   "metadata": {},
   "source": [
    "### Cabina"
   ]
  },
  {
   "cell_type": "markdown",
   "metadata": {},
   "source": [
    "Una variabile con così tanti valori mancanti è una causa persa e rischia di alterare significativamente un modello. Potenzialmente una funzione potrebbe essere estratta utilizzando i dettagli della cabina per i passeggeri di prima classe poiché questi dati sono più completi. Tuttavia, decidiamo di non procedere oltre con questa variabile e dunque la rimuoviamo."
   ]
  },
  {
   "cell_type": "code",
   "execution_count": 11,
   "metadata": {},
   "outputs": [],
   "source": [
    "titanic_full <- titanic_full[,-11]"
   ]
  },
  {
   "cell_type": "markdown",
   "metadata": {},
   "source": [
    "### Età"
   ]
  },
  {
   "cell_type": "markdown",
   "metadata": {},
   "source": [
    "L'età è probabilmente uno dei fattori chiave che contribuirà al modello. Tuttavia, sembra avere molti valori mancanti. Un modo accurato per indovinare i valori può essere quello di utilizzare altre variabili correlate. Nel nostro caso possiamo sfruttare il Sesso e Pclass. Possiamo dunque indovinare i valori dell'età utilizzando i valori mediani per Età tra i set di valori di Pclass e Sex. Quindi, calcolando l'età mediana per Pclass = 1 e Gender = 0, Pclass = 1 e Gender = 1, e così via ..."
   ]
  },
  {
   "cell_type": "code",
   "execution_count": 12,
   "metadata": {},
   "outputs": [],
   "source": [
    "# Convert to factors\n",
    "titanic_full$Sex <- as.factor(titanic_full$Sex)\n",
    "\n",
    "# Iterate over Sex (male or female) and Pclass (1, 2, 3) to calculate guessed values of Age for the six combinations.\n",
    "for (i in 1:nlevels(titanic_full$Sex)) {\n",
    "  for (j in 1:length(unique(titanic_full$Pclass))) {\n",
    "    guess_age <- round(median(subset(titanic_full, Sex == titanic_full$Sex[i] & Pclass == j, select=c(Age))$Age, na.rm = TRUE))\n",
    "    titanic_full$Age[titanic_full$Sex == titanic_full$Sex[i] & titanic_full$Pclass == j & is.na(titanic_full$Age)] <- guess_age\n",
    "  }\n",
    "}"
   ]
  },
  {
   "cell_type": "markdown",
   "metadata": {},
   "source": [
    "### Porto di Imbarcazione"
   ]
  },
  {
   "cell_type": "markdown",
   "metadata": {},
   "source": [
    "Nel nostro set di dati questa variabile ha due valori mancanti. Li riempiamo semplicemente con il porto più comune, ovvero il porto di Southampton (S), anche qui senza pregiudicare il nostro modello."
   ]
  },
  {
   "cell_type": "code",
   "execution_count": 13,
   "metadata": {},
   "outputs": [],
   "source": [
    "# Replace missing embarked values\n",
    "titanic_full$Embarked[c(62,830)] = \"S\""
   ]
  },
  {
   "cell_type": "markdown",
   "metadata": {},
   "source": [
    "### Tariffa del Biglietto"
   ]
  },
  {
   "cell_type": "markdown",
   "metadata": {},
   "source": [
    "L'unico valore mancante possiamo tranquillamente sostituirlo con la mediana senza pregiudicare il nostro modello."
   ]
  },
  {
   "cell_type": "code",
   "execution_count": 14,
   "metadata": {},
   "outputs": [],
   "source": [
    "# Replace missing fare value \n",
    "titanic_full$Fare[1044] <- median(titanic_full$Fare, na.rm = TRUE)"
   ]
  },
  {
   "cell_type": "markdown",
   "metadata": {},
   "source": [
    "Controllo di aver rimpiazzato ogni valore mancante:"
   ]
  },
  {
   "cell_type": "code",
   "execution_count": 15,
   "metadata": {},
   "outputs": [
    {
     "data": {
      "text/html": [
       "<style>\n",
       ".dl-inline {width: auto; margin:0; padding: 0}\n",
       ".dl-inline>dt, .dl-inline>dd {float: none; width: auto; display: inline-block}\n",
       ".dl-inline>dt::after {content: \":\\0020\"; padding-right: .5ex}\n",
       ".dl-inline>dt:not(:first-of-type) {padding-left: .5ex}\n",
       "</style><dl class=dl-inline><dt>PassengerId</dt><dd>0</dd><dt>Pclass</dt><dd>0</dd><dt>Name</dt><dd>0</dd><dt>Sex</dt><dd>0</dd><dt>Age</dt><dd>0</dd><dt>SibSp</dt><dd>0</dd><dt>Parch</dt><dd>0</dd><dt>Ticket</dt><dd>0</dd><dt>Fare</dt><dd>0</dd><dt>Embarked</dt><dd>0</dd></dl>\n"
      ],
      "text/latex": [
       "\\begin{description*}\n",
       "\\item[PassengerId] 0\n",
       "\\item[Pclass] 0\n",
       "\\item[Name] 0\n",
       "\\item[Sex] 0\n",
       "\\item[Age] 0\n",
       "\\item[SibSp] 0\n",
       "\\item[Parch] 0\n",
       "\\item[Ticket] 0\n",
       "\\item[Fare] 0\n",
       "\\item[Embarked] 0\n",
       "\\end{description*}\n"
      ],
      "text/markdown": [
       "PassengerId\n",
       ":   0Pclass\n",
       ":   0Name\n",
       ":   0Sex\n",
       ":   0Age\n",
       ":   0SibSp\n",
       ":   0Parch\n",
       ":   0Ticket\n",
       ":   0Fare\n",
       ":   0Embarked\n",
       ":   0\n",
       "\n"
      ],
      "text/plain": [
       "PassengerId      Pclass        Name         Sex         Age       SibSp \n",
       "          0           0           0           0           0           0 \n",
       "      Parch      Ticket        Fare    Embarked \n",
       "          0           0           0           0 "
      ]
     },
     "metadata": {},
     "output_type": "display_data"
    }
   ],
   "source": [
    "# Missing values\n",
    "miss <- sapply(titanic_full[-2], function(x) sum(is.na(x)))\n",
    "miss"
   ]
  },
  {
   "cell_type": "markdown",
   "metadata": {},
   "source": [
    "## Esplorazione e Visualizzazione dei Dati"
   ]
  },
  {
   "cell_type": "markdown",
   "metadata": {},
   "source": [
    "La sezione seguente utilizza grafici di densità per visualizzare le relazioni tra i vari predittori di sopravvivenza."
   ]
  },
  {
   "cell_type": "markdown",
   "metadata": {},
   "source": [
    "### Sex x Age"
   ]
  },
  {
   "cell_type": "markdown",
   "metadata": {},
   "source": [
    "I maschi e le femmine a bordo del Titanic avevano approssimativamente la stessa età media. Possiamo esplorare ulteriormente questa caratteristica con un plot."
   ]
  },
  {
   "cell_type": "code",
   "execution_count": 16,
   "metadata": {},
   "outputs": [
    {
     "data": {
      "text/html": [
       "<table>\n",
       "<caption>A data.frame: 2 × 2</caption>\n",
       "<thead>\n",
       "\t<tr><th scope=col>Sex</th><th scope=col>Avg.Age</th></tr>\n",
       "\t<tr><th scope=col>&lt;fct&gt;</th><th scope=col>&lt;dbl&gt;</th></tr>\n",
       "</thead>\n",
       "<tbody>\n",
       "\t<tr><td>female</td><td>27.93689</td></tr>\n",
       "\t<tr><td>male  </td><td>30.00128</td></tr>\n",
       "</tbody>\n",
       "</table>\n"
      ],
      "text/latex": [
       "A data.frame: 2 × 2\n",
       "\\begin{tabular}{ll}\n",
       " Sex & Avg.Age\\\\\n",
       " <fct> & <dbl>\\\\\n",
       "\\hline\n",
       "\t female & 27.93689\\\\\n",
       "\t male   & 30.00128\\\\\n",
       "\\end{tabular}\n"
      ],
      "text/markdown": [
       "\n",
       "A data.frame: 2 × 2\n",
       "\n",
       "| Sex &lt;fct&gt; | Avg.Age &lt;dbl&gt; |\n",
       "|---|---|\n",
       "| female | 27.93689 |\n",
       "| male   | 30.00128 |\n",
       "\n"
      ],
      "text/plain": [
       "  Sex    Avg.Age \n",
       "1 female 27.93689\n",
       "2 male   30.00128"
      ]
     },
     "metadata": {},
     "output_type": "display_data"
    },
    {
     "data": {
      "image/png": "[encoded data removed]",
      "text/plain": [
       "plot without title"
      ]
     },
     "metadata": {
      "image/png": {
       "height": 420,
       "width": 420
      }
     },
     "output_type": "display_data"
    }
   ],
   "source": [
    "# Sex x Age plot\n",
    "means <- ddply(titanic_full, \"Sex\", summarise, Avg.Age=mean(Age))\n",
    "means\n",
    "plot <- ggplot(titanic_full, aes(x=Age, fill=Sex)) + geom_density(alpha=0.3) + scale_fill_manual( values = c(\"red\",\"blue\"))\n",
    "plot + geom_vline(data=means, aes(xintercept=Avg.Age, color=Sex), linetype=\"dashed\") + ggtitle(\"Density plot for Sex x Age\")"
   ]
  },
  {
   "cell_type": "markdown",
   "metadata": {},
   "source": [
    "Come mostrato sopra, le distribuzioni di età maschile e femminile hanno una media rispettivamente di 30 e 28 anni. È interessante notare che il gruppo femminile ha una percentuale maggiore di membri tra zero e 20 anni rispetto al gruppo maschile. Inoltre, il gruppo maschile ha una percentuale maggiore di membri di età superiore ai 60 anni rispetto al gruppo femminile."
   ]
  },
  {
   "cell_type": "markdown",
   "metadata": {},
   "source": [
    "### Survival x Age"
   ]
  },
  {
   "cell_type": "markdown",
   "metadata": {},
   "source": [
    "Di seguito si può vedere che lo stato di sopravvivenza dei passeggeri è distribuito in modo abbastanza uniforme rispetto all'età dei passeggeri, con una densità leggermente superiore di sopravvissuti sotto i 10 anni di età."
   ]
  },
  {
   "cell_type": "code",
   "execution_count": 17,
   "metadata": {},
   "outputs": [
    {
     "data": {
      "text/html": [
       "<table>\n",
       "<caption>A data.frame: 2 × 2</caption>\n",
       "<thead>\n",
       "\t<tr><th scope=col>Survived</th><th scope=col>Avg.Age</th></tr>\n",
       "\t<tr><th scope=col>&lt;fct&gt;</th><th scope=col>&lt;dbl&gt;</th></tr>\n",
       "</thead>\n",
       "<tbody>\n",
       "\t<tr><td>0</td><td>29.81148</td></tr>\n",
       "\t<tr><td>1</td><td>28.20079</td></tr>\n",
       "</tbody>\n",
       "</table>\n"
      ],
      "text/latex": [
       "A data.frame: 2 × 2\n",
       "\\begin{tabular}{ll}\n",
       " Survived & Avg.Age\\\\\n",
       " <fct> & <dbl>\\\\\n",
       "\\hline\n",
       "\t 0 & 29.81148\\\\\n",
       "\t 1 & 28.20079\\\\\n",
       "\\end{tabular}\n"
      ],
      "text/markdown": [
       "\n",
       "A data.frame: 2 × 2\n",
       "\n",
       "| Survived &lt;fct&gt; | Avg.Age &lt;dbl&gt; |\n",
       "|---|---|\n",
       "| 0 | 29.81148 |\n",
       "| 1 | 28.20079 |\n",
       "\n"
      ],
      "text/plain": [
       "  Survived Avg.Age \n",
       "1 0        29.81148\n",
       "2 1        28.20079"
      ]
     },
     "metadata": {},
     "output_type": "display_data"
    },
    {
     "data": {
      "image/png": "[encoded data removed]",
      "text/plain": [
       "plot without title"
      ]
     },
     "metadata": {
      "image/png": {
       "height": 420,
       "width": 420
      }
     },
     "output_type": "display_data"
    }
   ],
   "source": [
    "# Survival x Age plot\n",
    "means <- ddply(titanic_full[1:891, ], \"Survived\", summarise, Avg.Age=mean(Age))\n",
    "means\n",
    "plot <- ggplot(titanic_full[1:891, ], aes(x=Age, fill=Survived)) + geom_density(alpha=0.3) + scale_fill_manual( values = c(\"red\",\"darkgreen\"))\n",
    "plot + geom_vline(data=means, aes(xintercept=Avg.Age, color=Survived), linetype=\"dashed\") + ggtitle(\"Density plot for Survival x Age\")"
   ]
  },
  {
   "cell_type": "markdown",
   "metadata": {},
   "source": [
    "### Sex x Survival"
   ]
  },
  {
   "cell_type": "markdown",
   "metadata": {},
   "source": [
    "Utilizzando un grafico a barre in pila possiamo visualizzare la sopravvivenza dei passeggeri ripsetto al sesso\n",
    "\n",
    "Si può  vedere facilmente che\n",
    "- C'erano più passeggeri maschi sul Titanic.\n",
    "- Il tasso di sopravvivenza era molto più alto per i passeggeri donne."
   ]
  },
  {
   "cell_type": "code",
   "execution_count": 18,
   "metadata": {},
   "outputs": [
    {
     "data": {
      "image/png": "[encoded data removed]",
      "text/plain": [
       "Plot with title \"Sex x Survival\""
      ]
     },
     "metadata": {
      "image/png": {
       "height": 420,
       "width": 420
      }
     },
     "output_type": "display_data"
    }
   ],
   "source": [
    "# Sex x Survival plot\n",
    "counts <- table(titanic_full[1:891, ]$Survived, titanic_full[1:891, ]$Sex)\n",
    "bp <- barplot(counts, main=\"Sex x Survival\", xlab=\"Sex\", ylab=\"Number of Passengers\", col=c(\"red\",\"darkgreen\"), legend = c(\"Not Survived\", \"Survived\"), args.legend = list(x = 'topleft'))\n",
    "text(bp, counts[1,]-40, labels = counts[1, ])\n",
    "text(bp, counts[1,]+60, labels = counts[2, ])"
   ]
  },
  {
   "cell_type": "markdown",
   "metadata": {},
   "source": [
    "### Sex x Age x Survival"
   ]
  },
  {
   "cell_type": "markdown",
   "metadata": {},
   "source": [
    "Di seguito sono riportati due grafici di densità che mostrano la distribuzione dell'età e del sesso del passeggero per (1) passeggeri sopravvissuti e (2) passeggeri non sopravvissuti\n",
    "\n",
    "Per i sopravvissuti, la distribuzione è abbastanza simile per maschi e femmine, con un numero leggermente maggiore di maschi sotto i 10 anni che sono sopravvisuti ma anche di femmine tra i 15 e i 25 anni."
   ]
  },
  {
   "cell_type": "code",
   "execution_count": 19,
   "metadata": {},
   "outputs": [
    {
     "data": {
      "text/html": [
       "<table>\n",
       "<caption>A data.frame: 2 × 2</caption>\n",
       "<thead>\n",
       "\t<tr><th scope=col>Sex</th><th scope=col>Avg.Age</th></tr>\n",
       "\t<tr><th scope=col>&lt;fct&gt;</th><th scope=col>&lt;dbl&gt;</th></tr>\n",
       "</thead>\n",
       "<tbody>\n",
       "\t<tr><td>female</td><td>28.38197</td></tr>\n",
       "\t<tr><td>male  </td><td>27.81349</td></tr>\n",
       "</tbody>\n",
       "</table>\n"
      ],
      "text/latex": [
       "A data.frame: 2 × 2\n",
       "\\begin{tabular}{ll}\n",
       " Sex & Avg.Age\\\\\n",
       " <fct> & <dbl>\\\\\n",
       "\\hline\n",
       "\t female & 28.38197\\\\\n",
       "\t male   & 27.81349\\\\\n",
       "\\end{tabular}\n"
      ],
      "text/markdown": [
       "\n",
       "A data.frame: 2 × 2\n",
       "\n",
       "| Sex &lt;fct&gt; | Avg.Age &lt;dbl&gt; |\n",
       "|---|---|\n",
       "| female | 28.38197 |\n",
       "| male   | 27.81349 |\n",
       "\n"
      ],
      "text/plain": [
       "  Sex    Avg.Age \n",
       "1 female 28.38197\n",
       "2 male   27.81349"
      ]
     },
     "metadata": {},
     "output_type": "display_data"
    },
    {
     "data": {
      "image/png": "[encoded data removed]",
      "text/plain": [
       "plot without title"
      ]
     },
     "metadata": {
      "image/png": {
       "height": 420,
       "width": 420
      }
     },
     "output_type": "display_data"
    }
   ],
   "source": [
    "# Sex x Age x Survival (Survived) plot\n",
    "data <- titanic_full[1:891, ][titanic_full[1:891, ]$Survived == 1, ]\n",
    "means <- ddply(data, \"Sex\", summarise, Avg.Age=mean(Age))\n",
    "means\n",
    "plot <- ggplot(data, aes(x=Age, fill=Sex)) + geom_density(alpha=0.3) + scale_fill_manual( values = c(\"red\",\"blue\"))\n",
    "plot + geom_vline(data=means, aes(xintercept=Avg.Age, color=Sex), linetype=\"dashed\") + ggtitle(\"Density plot of Age x Sex for Surviving Passengers\")"
   ]
  },
  {
   "cell_type": "markdown",
   "metadata": {},
   "source": [
    "Per i non sopravvissuti, la distribuzione di età x sesso è più disparata. Sono morte proporzionalmente più femmine rispetto ai maschi di età inferiore ai 20 anni, mentre oltre i 20 anni sono morti più maschi"
   ]
  },
  {
   "cell_type": "code",
   "execution_count": 20,
   "metadata": {},
   "outputs": [
    {
     "data": {
      "text/html": [
       "<table>\n",
       "<caption>A data.frame: 2 × 2</caption>\n",
       "<thead>\n",
       "\t<tr><th scope=col>Sex</th><th scope=col>Avg.Age</th></tr>\n",
       "\t<tr><th scope=col>&lt;fct&gt;</th><th scope=col>&lt;dbl&gt;</th></tr>\n",
       "</thead>\n",
       "<tbody>\n",
       "\t<tr><td>female</td><td>24.40741</td></tr>\n",
       "\t<tr><td>male  </td><td>30.74679</td></tr>\n",
       "</tbody>\n",
       "</table>\n"
      ],
      "text/latex": [
       "A data.frame: 2 × 2\n",
       "\\begin{tabular}{ll}\n",
       " Sex & Avg.Age\\\\\n",
       " <fct> & <dbl>\\\\\n",
       "\\hline\n",
       "\t female & 24.40741\\\\\n",
       "\t male   & 30.74679\\\\\n",
       "\\end{tabular}\n"
      ],
      "text/markdown": [
       "\n",
       "A data.frame: 2 × 2\n",
       "\n",
       "| Sex &lt;fct&gt; | Avg.Age &lt;dbl&gt; |\n",
       "|---|---|\n",
       "| female | 24.40741 |\n",
       "| male   | 30.74679 |\n",
       "\n"
      ],
      "text/plain": [
       "  Sex    Avg.Age \n",
       "1 female 24.40741\n",
       "2 male   30.74679"
      ]
     },
     "metadata": {},
     "output_type": "display_data"
    },
    {
     "data": {
      "image/png": "[encoded data removed]",
      "text/plain": [
       "plot without title"
      ]
     },
     "metadata": {
      "image/png": {
       "height": 420,
       "width": 420
      }
     },
     "output_type": "display_data"
    }
   ],
   "source": [
    "# Sex x Age x Survival (Not Survived) plot\n",
    "data <- titanic_full[1:891, ][titanic_full[1:891, ]$Survived == 0, ]\n",
    "means <- ddply(data, \"Sex\", summarise, Avg.Age=mean(Age))\n",
    "means\n",
    "plot <- ggplot(data, aes(x=Age, fill=Sex)) + geom_density(alpha=0.3) + scale_fill_manual( values = c(\"red\",\"blue\"))\n",
    "plot + geom_vline(data=means, aes(xintercept=Avg.Age, color=Sex), linetype=\"dashed\") + ggtitle(\"Density plot of Age x Sex for Non-Survivors Passengers\")"
   ]
  },
  {
   "cell_type": "markdown",
   "metadata": {},
   "source": [
    "### Class x Survival"
   ]
  },
  {
   "cell_type": "markdown",
   "metadata": {},
   "source": [
    "C'erano tre classi di passeggeri sul Titanic: prima, seconda e terza classe. Non sorprende che più passeggeri siano morti nelle classi di passeggeri più povere."
   ]
  },
  {
   "cell_type": "code",
   "execution_count": 21,
   "metadata": {},
   "outputs": [
    {
     "data": {
      "image/png": "[encoded data removed]",
      "text/plain": [
       "Plot with title \"Class x Survival\""
      ]
     },
     "metadata": {
      "image/png": {
       "height": 420,
       "width": 420
      }
     },
     "output_type": "display_data"
    }
   ],
   "source": [
    "# Class x Survival plot\n",
    "counts <- table(titanic_full[1:891, ]$Survived, titanic_full[1:891, ]$Pclass)\n",
    "bp <- barplot(counts, main=\"Class x Survival\", xlab=\"Pclass\", ylab=\"Number of Passengers\", col=c(\"red\",\"darkgreen\"), legend = c(\"Not Survived\", \"Survived\"), args.legend = list(x = 'topleft'))\n",
    "text(bp, counts[1,]-40, labels = counts[1, ])\n",
    "text(bp, counts[1,]+60, labels = counts[2, ])"
   ]
  },
  {
   "cell_type": "markdown",
   "metadata": {},
   "source": [
    "### Class x Age x Survival"
   ]
  },
  {
   "cell_type": "markdown",
   "metadata": {},
   "source": [
    "La distribuzione dell'età del passeggero per ciascuna classe di cabina è quasi identica per i sopravvissuti e i non sopravvissuti.\n",
    "\n",
    "Alcune differenze degne di nota sono una maggiore densità di passeggeri sopravvissuti inferiore ai 10 anni di età in seconda e terza classe e una maggiore densità di passeggeri non sopravvissuti maggiori di 40 anni di età in prima classe"
   ]
  },
  {
   "cell_type": "code",
   "execution_count": 22,
   "metadata": {},
   "outputs": [
    {
     "data": {
      "text/html": [
       "<table>\n",
       "<caption>A data.frame: 3 × 2</caption>\n",
       "<thead>\n",
       "\t<tr><th scope=col>Pclass</th><th scope=col>Avg.Age</th></tr>\n",
       "\t<tr><th scope=col>&lt;fct&gt;</th><th scope=col>&lt;dbl&gt;</th></tr>\n",
       "</thead>\n",
       "<tbody>\n",
       "\t<tr><td>1</td><td>35.65382</td></tr>\n",
       "\t<tr><td>2</td><td>26.04402</td></tr>\n",
       "\t<tr><td>3</td><td>21.25983</td></tr>\n",
       "</tbody>\n",
       "</table>\n"
      ],
      "text/latex": [
       "A data.frame: 3 × 2\n",
       "\\begin{tabular}{ll}\n",
       " Pclass & Avg.Age\\\\\n",
       " <fct> & <dbl>\\\\\n",
       "\\hline\n",
       "\t 1 & 35.65382\\\\\n",
       "\t 2 & 26.04402\\\\\n",
       "\t 3 & 21.25983\\\\\n",
       "\\end{tabular}\n"
      ],
      "text/markdown": [
       "\n",
       "A data.frame: 3 × 2\n",
       "\n",
       "| Pclass &lt;fct&gt; | Avg.Age &lt;dbl&gt; |\n",
       "|---|---|\n",
       "| 1 | 35.65382 |\n",
       "| 2 | 26.04402 |\n",
       "| 3 | 21.25983 |\n",
       "\n"
      ],
      "text/plain": [
       "  Pclass Avg.Age \n",
       "1 1      35.65382\n",
       "2 2      26.04402\n",
       "3 3      21.25983"
      ]
     },
     "metadata": {},
     "output_type": "display_data"
    },
    {
     "data": {
      "image/png": "[encoded data removed]",
      "text/plain": [
       "plot without title"
      ]
     },
     "metadata": {
      "image/png": {
       "height": 420,
       "width": 420
      }
     },
     "output_type": "display_data"
    }
   ],
   "source": [
    "# Class x Age x Survival (Survived) plot\n",
    "data <- titanic_full[1:891, ][titanic_full[1:891, ]$Survived == 1, ]\n",
    "means <- ddply(data, \"Pclass\", summarise, Avg.Age=mean(Age))\n",
    "means\n",
    "plot <- ggplot(data, aes(x=Age, fill=Pclass)) + geom_density(alpha=0.3) + scale_fill_manual(values = c(\"yellow\",\"blue\", \"red\"))\n",
    "plot + geom_vline(data=means, aes(xintercept=Avg.Age, color=Pclass), linetype=\"dashed\") + ggtitle(\"Density plot of Age x Pclass for Surviving Passengers\")"
   ]
  },
  {
   "cell_type": "code",
   "execution_count": 23,
   "metadata": {},
   "outputs": [
    {
     "data": {
      "text/html": [
       "<table>\n",
       "<caption>A data.frame: 3 × 2</caption>\n",
       "<thead>\n",
       "\t<tr><th scope=col>Pclass</th><th scope=col>Avg.Age</th></tr>\n",
       "\t<tr><th scope=col>&lt;fct&gt;</th><th scope=col>&lt;dbl&gt;</th></tr>\n",
       "</thead>\n",
       "<tbody>\n",
       "\t<tr><td>1</td><td>43.35625</td></tr>\n",
       "\t<tr><td>2</td><td>33.28866</td></tr>\n",
       "\t<tr><td>3</td><td>25.99194</td></tr>\n",
       "</tbody>\n",
       "</table>\n"
      ],
      "text/latex": [
       "A data.frame: 3 × 2\n",
       "\\begin{tabular}{ll}\n",
       " Pclass & Avg.Age\\\\\n",
       " <fct> & <dbl>\\\\\n",
       "\\hline\n",
       "\t 1 & 43.35625\\\\\n",
       "\t 2 & 33.28866\\\\\n",
       "\t 3 & 25.99194\\\\\n",
       "\\end{tabular}\n"
      ],
      "text/markdown": [
       "\n",
       "A data.frame: 3 × 2\n",
       "\n",
       "| Pclass &lt;fct&gt; | Avg.Age &lt;dbl&gt; |\n",
       "|---|---|\n",
       "| 1 | 43.35625 |\n",
       "| 2 | 33.28866 |\n",
       "| 3 | 25.99194 |\n",
       "\n"
      ],
      "text/plain": [
       "  Pclass Avg.Age \n",
       "1 1      43.35625\n",
       "2 2      33.28866\n",
       "3 3      25.99194"
      ]
     },
     "metadata": {},
     "output_type": "display_data"
    },
    {
     "data": {
      "image/png": "[encoded data removed]",
      "text/plain": [
       "plot without title"
      ]
     },
     "metadata": {
      "image/png": {
       "height": 420,
       "width": 420
      }
     },
     "output_type": "display_data"
    }
   ],
   "source": [
    "# Class x Age x Survival (Not Survived) plot\n",
    "data <- titanic_full[1:891, ][titanic_full[1:891, ]$Survived == 0, ]\n",
    "means <- ddply(data, \"Pclass\", summarise, Avg.Age=mean(Age))\n",
    "means\n",
    "plot <- ggplot(data, aes(x=Age, fill=Pclass)) + geom_density(alpha=0.3) + scale_fill_manual(values = c(\"yellow\",\"blue\", \"red\"))\n",
    "plot + geom_vline(data=means, aes(xintercept=Avg.Age, color=Pclass), linetype=\"dashed\") + ggtitle(\"Density plot of Age x Pclass for Non-Survivors Passengers\")"
   ]
  },
  {
   "cell_type": "markdown",
   "metadata": {},
   "source": [
    "### Embarked x Survival"
   ]
  },
  {
   "cell_type": "markdown",
   "metadata": {},
   "source": [
    "I passeggeri salivano a bordo del Titanic da tre porti di imbarco: Southampton, Cherbourg e Queenstown. La stragrande maggioranza dei passeggeri proveniva dal primo porto di imbarco (Southampton).\n",
    "\n",
    "C'erano più passeggeri non sopravvissuti che si imbarcano da Southampton e Queenstown, ma più passeggeri sopravvissuti da Cherbourg. In quanto tale, il porto di imbarco sembra correlato alla probabilità di sopravvivenza"
   ]
  },
  {
   "cell_type": "code",
   "execution_count": 24,
   "metadata": {},
   "outputs": [
    {
     "data": {
      "image/png": "[encoded data removed]",
      "text/plain": [
       "Plot with title \"Embarked x Survival\""
      ]
     },
     "metadata": {
      "image/png": {
       "height": 420,
       "width": 420
      }
     },
     "output_type": "display_data"
    }
   ],
   "source": [
    "# Embarked x Survival\n",
    "counts <- table(titanic_full[1:891, ]$Survived, titanic_full[1:891, ]$Embarked)\n",
    "bp <- barplot(counts, main=\"Embarked x Survival\", xlab=\"Pclass\", ylab=\"Number of Passengers\", col=c(\"red\",\"darkgreen\"), legend = c(\"Not Survived\", \"Survived\"), args.legend = list(x = 'topleft'))\n",
    "text(bp, counts[1,]-20, labels = counts[1, ])\n",
    "text(bp, counts[1,]+20, labels = counts[2, ])"
   ]
  },
  {
   "cell_type": "markdown",
   "metadata": {},
   "source": [
    "## Feature Extraction"
   ]
  },
  {
   "cell_type": "markdown",
   "metadata": {},
   "source": [
    "### Nome e Titolo"
   ]
  },
  {
   "cell_type": "markdown",
   "metadata": {},
   "source": [
    "Un nome potrebbe non spiegare molto in questa situazione, tuttavia, il titolo è diverso. Il titolo del passeggero non solo può essere utilizzato per la classificazione, ma anche per capire il loro grado nella società. Più alto è il grado, maggiore è la probabilità che le persone li lascino sopravvivere."
   ]
  },
  {
   "cell_type": "code",
   "execution_count": 25,
   "metadata": {},
   "outputs": [
    {
     "data": {
      "text/plain": [
       "        \n",
       "         Capt Col Don Dona  Dr Jonkheer Lady Major Master Miss Mlle Mme  Mr Mrs\n",
       "  female    0   0   0    1   1        0    1     0      0  260    2   1   0 197\n",
       "  male      1   4   1    0   7        1    0     2     61    0    0   0 757   0\n",
       "        \n",
       "          Ms Rev Sir the Countess\n",
       "  female   2   0   0            1\n",
       "  male     0   8   1            0"
      ]
     },
     "metadata": {},
     "output_type": "display_data"
    }
   ],
   "source": [
    "# Take title from name\n",
    "titanic_full$Title <- gsub('(.*, )|(\\\\..*)', '', titanic_full$Name)\n",
    "\n",
    "# Show title counts by sex\n",
    "table(titanic_full$Sex, titanic_full$Title)"
   ]
  },
  {
   "cell_type": "markdown",
   "metadata": {},
   "source": [
    "Possiamo raggruppare i titoli in \"MR\", \"MISS\", \"MRS\", \"MASTER\" e \"Other\" per i più rari:"
   ]
  },
  {
   "cell_type": "code",
   "execution_count": 26,
   "metadata": {},
   "outputs": [],
   "source": [
    "# Re-assign female categories \n",
    "titanic_full$Title[titanic_full$Title == 'Mlle' | titanic_full$Title == 'Ms'] <- 'Miss' \n",
    "titanic_full$Title[titanic_full$Title == 'Mme']  <- 'Mrs' \n",
    "\n",
    "# Concatenate rare titles, potential proxi for high spcoa; standing \n",
    "Other <- c('Dona', 'Dr', 'Lady', 'the Countess','Capt', 'Col', 'Don', 'Jonkheer', 'Major', 'Rev', 'Sir')\n",
    "\n",
    "titanic_full$Title[titanic_full$Title %in% Other]  <- 'Other'\n",
    "\n",
    "# Set Title as factor\n",
    "titanic_full$Title <- as.factor(titanic_full$Title)"
   ]
  },
  {
   "cell_type": "markdown",
   "metadata": {},
   "source": [
    "Esaminiamo la ripartizione dei titoli dei passeggeri per il loro sesso:"
   ]
  },
  {
   "cell_type": "code",
   "execution_count": 27,
   "metadata": {},
   "outputs": [
    {
     "data": {
      "text/plain": [
       "        \n",
       "         Master Miss  Mr Mrs Other\n",
       "  female      0  264   0 198     4\n",
       "  male       61    0 757   0    25"
      ]
     },
     "metadata": {},
     "output_type": "display_data"
    }
   ],
   "source": [
    "# Show title counts by sex again\n",
    "table(titanic_full$Sex, titanic_full$Title)"
   ]
  },
  {
   "cell_type": "markdown",
   "metadata": {},
   "source": [
    "In sostanza, il titolo trasmette bene alcuni degli effetti interattivi tra Age e Sex.\n",
    "\n",
    "Sappiamo che i maschi hanno maggiori probabilità di morire sul Titanic rispetto alle femmine, ma evidentemente, i giovani maschi con il titolo di \"Master\" avevano una probabilità di sopravvivenza migliore rispetto ai maschi adulti."
   ]
  },
  {
   "cell_type": "code",
   "execution_count": 28,
   "metadata": {},
   "outputs": [
    {
     "data": {
      "image/png": "[encoded data removed]",
      "text/plain": [
       "Plot with title \"Title x Survival\""
      ]
     },
     "metadata": {
      "image/png": {
       "height": 420,
       "width": 420
      }
     },
     "output_type": "display_data"
    }
   ],
   "source": [
    "# Embarked x Survival\n",
    "counts <- table(titanic_full[1:891, ]$Survived, titanic_full[1:891, ]$Title)\n",
    "bp <- barplot(counts, main=\"Title x Survival\", xlab=\"Title\", ylab=\"Number of Passengers\", col=c(\"red\",\"darkgreen\"), legend = c(\"Not Survived\", \"Survived\"), args.legend = list(x = 'topleft'))\n",
    "text(bp, counts[1,]-10, labels = counts[1, ])\n",
    "text(bp, counts[1,]+40, labels = counts[2, ])"
   ]
  },
  {
   "cell_type": "markdown",
   "metadata": {},
   "source": [
    "### Numero membri Famiglia e IsAlone\n",
    "Anche la dimensione della famiglia potrebbe essere un fattore interessante da considerare."
   ]
  },
  {
   "cell_type": "code",
   "execution_count": 29,
   "metadata": {},
   "outputs": [],
   "source": [
    "# Combine siblings + parents/children \n",
    "titanic_full$FamilySize <- titanic_full$SibSp + titanic_full$Parch + 1"
   ]
  },
  {
   "cell_type": "markdown",
   "metadata": {},
   "source": [
    "Possiamo vedere che le persone single hanno un più alto tasso di \"morte\" rispetto alle altre persone."
   ]
  },
  {
   "cell_type": "code",
   "execution_count": 30,
   "metadata": {},
   "outputs": [
    {
     "data": {
      "image/png": "[encoded data removed]",
      "text/plain": [
       "plot without title"
      ]
     },
     "metadata": {
      "image/png": {
       "height": 420,
       "width": 420
      }
     },
     "output_type": "display_data"
    }
   ],
   "source": [
    "#Use ggplot2 to visualize the relationship between family size & survival\n",
    "ggplot(titanic_full[1:891,], aes(x = FamilySize, fill = Survived)) + geom_bar(stat='count', position='dodge') +\n",
    "       scale_x_continuous(breaks=c(1:11)) + labs(x = 'Family Size')"
   ]
  },
  {
   "cell_type": "markdown",
   "metadata": {},
   "source": [
    "Può essere dunque molto utile creare una nuova variabile che ci indica se qualcuno si è imbarcato da solo."
   ]
  },
  {
   "cell_type": "code",
   "execution_count": 31,
   "metadata": {},
   "outputs": [],
   "source": [
    "# Create new feature IsAlone from FamilySize\n",
    "titanic_full$IsAlone <- ifelse(titanic_full$FamilySize == 1, 1, 0)\n",
    "\n",
    "# Set IsAlone as factor\n",
    "titanic_full$IsAlone <- as.factor(titanic_full$IsAlone)"
   ]
  },
  {
   "cell_type": "markdown",
   "metadata": {},
   "source": [
    "### Fare Groups"
   ]
  },
  {
   "cell_type": "markdown",
   "metadata": {},
   "source": [
    "Per rendere le tariffe più facili da analizzare, ed essendo una variabile continua e quindi un pò più difficile da gestire per gli alberi di decisione, le raccogliamo in 4 gruppi attraverso la funzione qcut di R, dato che se tagliassimo l'intervallo dei valori tariffari in poche categorie ugualmente grandi, l'80% dei valori rientrerebbe nella prima categoria. In seguito i gruppi per semplicità vengono numerati da 1 a 4."
   ]
  },
  {
   "cell_type": "code",
   "execution_count": 32,
   "metadata": {},
   "outputs": [
    {
     "data": {
      "text/html": [
       "<style>\n",
       ".list-inline {list-style: none; margin:0; padding: 0}\n",
       ".list-inline>li {display: inline-block}\n",
       ".list-inline>li:not(:last-child)::after {content: \"\\00b7\"; padding: 0 .5ex}\n",
       "</style>\n",
       "<ol class=list-inline><li>'[0,7.9]'</li><li>'(7.9,14.5]'</li><li>'(14.5,31.3]'</li><li>'(31.3,512]'</li></ol>\n"
      ],
      "text/latex": [
       "\\begin{enumerate*}\n",
       "\\item '{[}0,7.9{]}'\n",
       "\\item '(7.9,14.5{]}'\n",
       "\\item '(14.5,31.3{]}'\n",
       "\\item '(31.3,512{]}'\n",
       "\\end{enumerate*}\n"
      ],
      "text/markdown": [
       "1. '[0,7.9]'\n",
       "2. '(7.9,14.5]'\n",
       "3. '(14.5,31.3]'\n",
       "4. '(31.3,512]'\n",
       "\n",
       "\n"
      ],
      "text/plain": [
       "[1] \"[0,7.9]\"     \"(7.9,14.5]\"  \"(14.5,31.3]\" \"(31.3,512]\" "
      ]
     },
     "metadata": {},
     "output_type": "display_data"
    }
   ],
   "source": [
    "# Fare Groups\n",
    "groups = qcut(titanic_full$Fare, 4)\n",
    "levels(groups)\n",
    "titanic_full$Fare <- groups\n",
    "levels(titanic_full$Fare) <- c(\"1\", \"2\", \"3\", \"4\")"
   ]
  },
  {
   "cell_type": "markdown",
   "metadata": {},
   "source": [
    "## Rimozione di Varabili non Necessarie"
   ]
  },
  {
   "cell_type": "markdown",
   "metadata": {},
   "source": [
    "Infine, prima di passare a creare il nostro modello, eliminiamo le variabili che non ci servono più e non contengono più informazioni rilevanti."
   ]
  },
  {
   "cell_type": "code",
   "execution_count": 33,
   "metadata": {},
   "outputs": [],
   "source": [
    "# Removing unnecessary features\n",
    "titanic_full$PassengerId <- NULL\n",
    "titanic_full$Name <- NULL\n",
    "titanic_full$SibSp <- NULL\n",
    "titanic_full$Parch <- NULL\n",
    "titanic_full$Ticket <- NULL"
   ]
  },
  {
   "cell_type": "markdown",
   "metadata": {},
   "source": [
    "Di seguito viene mostrato il dataset finale che utilizzeremo."
   ]
  },
  {
   "cell_type": "code",
   "execution_count": 34,
   "metadata": {},
   "outputs": [
    {
     "data": {
      "text/html": [
       "<table>\n",
       "<caption>A data.frame: 6 × 9</caption>\n",
       "<thead>\n",
       "\t<tr><th></th><th scope=col>Survived</th><th scope=col>Pclass</th><th scope=col>Sex</th><th scope=col>Age</th><th scope=col>Fare</th><th scope=col>Embarked</th><th scope=col>Title</th><th scope=col>FamilySize</th><th scope=col>IsAlone</th></tr>\n",
       "\t<tr><th></th><th scope=col>&lt;fct&gt;</th><th scope=col>&lt;fct&gt;</th><th scope=col>&lt;fct&gt;</th><th scope=col>&lt;dbl&gt;</th><th scope=col>&lt;fct&gt;</th><th scope=col>&lt;fct&gt;</th><th scope=col>&lt;fct&gt;</th><th scope=col>&lt;dbl&gt;</th><th scope=col>&lt;fct&gt;</th></tr>\n",
       "</thead>\n",
       "<tbody>\n",
       "\t<tr><th scope=row>1</th><td>0</td><td>3</td><td>male  </td><td>22</td><td>1</td><td>S</td><td>Mr  </td><td>2</td><td>0</td></tr>\n",
       "\t<tr><th scope=row>2</th><td>1</td><td>1</td><td>female</td><td>38</td><td>4</td><td>C</td><td>Mrs </td><td>2</td><td>0</td></tr>\n",
       "\t<tr><th scope=row>3</th><td>1</td><td>3</td><td>female</td><td>26</td><td>2</td><td>S</td><td>Miss</td><td>1</td><td>1</td></tr>\n",
       "\t<tr><th scope=row>4</th><td>1</td><td>1</td><td>female</td><td>35</td><td>4</td><td>S</td><td>Mrs </td><td>2</td><td>0</td></tr>\n",
       "\t<tr><th scope=row>5</th><td>0</td><td>3</td><td>male  </td><td>35</td><td>2</td><td>S</td><td>Mr  </td><td>1</td><td>1</td></tr>\n",
       "\t<tr><th scope=row>6</th><td>0</td><td>3</td><td>male  </td><td>25</td><td>2</td><td>Q</td><td>Mr  </td><td>1</td><td>1</td></tr>\n",
       "</tbody>\n",
       "</table>\n"
      ],
      "text/latex": [
       "A data.frame: 6 × 9\n",
       "\\begin{tabular}{r|lllllllll}\n",
       "  & Survived & Pclass & Sex & Age & Fare & Embarked & Title & FamilySize & IsAlone\\\\\n",
       "  & <fct> & <fct> & <fct> & <dbl> & <fct> & <fct> & <fct> & <dbl> & <fct>\\\\\n",
       "\\hline\n",
       "\t1 & 0 & 3 & male   & 22 & 1 & S & Mr   & 2 & 0\\\\\n",
       "\t2 & 1 & 1 & female & 38 & 4 & C & Mrs  & 2 & 0\\\\\n",
       "\t3 & 1 & 3 & female & 26 & 2 & S & Miss & 1 & 1\\\\\n",
       "\t4 & 1 & 1 & female & 35 & 4 & S & Mrs  & 2 & 0\\\\\n",
       "\t5 & 0 & 3 & male   & 35 & 2 & S & Mr   & 1 & 1\\\\\n",
       "\t6 & 0 & 3 & male   & 25 & 2 & Q & Mr   & 1 & 1\\\\\n",
       "\\end{tabular}\n"
      ],
      "text/markdown": [
       "\n",
       "A data.frame: 6 × 9\n",
       "\n",
       "| <!--/--> | Survived &lt;fct&gt; | Pclass &lt;fct&gt; | Sex &lt;fct&gt; | Age &lt;dbl&gt; | Fare &lt;fct&gt; | Embarked &lt;fct&gt; | Title &lt;fct&gt; | FamilySize &lt;dbl&gt; | IsAlone &lt;fct&gt; |\n",
       "|---|---|---|---|---|---|---|---|---|---|\n",
       "| 1 | 0 | 3 | male   | 22 | 1 | S | Mr   | 2 | 0 |\n",
       "| 2 | 1 | 1 | female | 38 | 4 | C | Mrs  | 2 | 0 |\n",
       "| 3 | 1 | 3 | female | 26 | 2 | S | Miss | 1 | 1 |\n",
       "| 4 | 1 | 1 | female | 35 | 4 | S | Mrs  | 2 | 0 |\n",
       "| 5 | 0 | 3 | male   | 35 | 2 | S | Mr   | 1 | 1 |\n",
       "| 6 | 0 | 3 | male   | 25 | 2 | Q | Mr   | 1 | 1 |\n",
       "\n"
      ],
      "text/plain": [
       "  Survived Pclass Sex    Age Fare Embarked Title FamilySize IsAlone\n",
       "1 0        3      male   22  1    S        Mr    2          0      \n",
       "2 1        1      female 38  4    C        Mrs   2          0      \n",
       "3 1        3      female 26  2    S        Miss  1          1      \n",
       "4 1        1      female 35  4    S        Mrs   2          0      \n",
       "5 0        3      male   35  2    S        Mr    1          1      \n",
       "6 0        3      male   25  2    Q        Mr    1          1      "
      ]
     },
     "metadata": {},
     "output_type": "display_data"
    }
   ],
   "source": [
    "# Print final dataset\n",
    "head(titanic_full)"
   ]
  },
  {
   "cell_type": "markdown",
   "metadata": {},
   "source": [
    "## Modelli con Alberi Decisionali"
   ]
  },
  {
   "cell_type": "markdown",
   "metadata": {},
   "source": [
    "Gli alberi decisionali operano suddividendo le variabili indipendenti (nel nostro caso, sesso, età, ecc.), in modo tale da determinare la massima riduzione possibile dell'eterogeneità della variabile dipendente (cioè lo stato di sopravvivenza, \"Survived\"). In altre parole, lavorano suddividendo il set di dati in modo ricorsivo, il che significa che i sottoinsiemi che derivano da una divisione vengono ulteriormente suddivisi fino a quando non viene raggiunto un criterio di terminazione predeterminato. Ad ogni passaggio, la suddivisione viene effettuata in base alla variabile indipendente che si traduce nella massima riduzione possibile dell'eterogeneità della variabile dipendente.\n",
    "\n",
    "Le regole di divisione (splitting) possono essere costruite in molti modi diversi, tutti basati sulla nozione di impurità, una misura del grado di eterogeneità dei nodi foglia. In altre parole, un nodo foglia che contiene una singola classe è omogeneo e ha impurità = 0. Esistono tre metodi di quantificazione dell'impurità: l'entropia, l'indice di Gini e l'errore di classificazione.\n",
    "\n",
    "#### Vantaggi e Limitazioni\n",
    "Tra i vari metodi di statistical learning, gli alberi decisionali presentano diversi vantaggi:\n",
    "- Semplici da capire e interpretare. Le persone sono in grado di comprendere i modelli di albero decisionale dopo una breve spiegazione. Gli alberi possono anche essere visualizzati graficamente in un modo facile da interpretare per i non esperti.\n",
    "- Soni in grado di gestire dati sia numerici che categorici.\n",
    "- Richiedono poca preparazione dei dati. Altre tecniche richiedono spesso la normalizzazione dei dati. Poiché gli alberi possono gestire predittori qualitativi, non è necessario creare variabili fittizie.\n",
    "- Utilizzano un modello scatola bianca o scatola aperta. Se una data situazione è osservabile in un modello, la spiegazione della condizione è facilmente spiegabile dalla logica booleana. Al contrario, in un modello a scatola nera, la spiegazione dei risultati è in genere difficile da comprendere, ad esempio con una rete neurale artificiale.\n",
    "- Possibilità di validare un modello utilizzando test statistici. Ciò consente di tenere conto dell'affidabilità del modello.\n",
    "- Funziona bene con set di dati di grandi dimensioni. È possibile analizzare grandi quantità di dati utilizzando risorse di calcolo standard in tempi ragionevoli.\n",
    "- Rispecchia il processo decisionale umano più da vicino rispetto ad altri approcci. Questo potrebbe essere utile quando si modellano decisioni/comportamenti umani.\n",
    "- Robusto contro la co-linearità.\n",
    "- Funzionalità irrilevanti aggiuntive saranno meno utilizzate in modo che possano essere rimosse nelle esecuzioni successive. La gerarchia degli attributi in un albero decisionale riflette l'importanza degli attributi, le funzionalità in alto sono le più informative.\n",
    "\n",
    "Ma anche alcune limitazioni:\n",
    "- Gli alberi possono essere poco robusti. Un piccolo cambiamento nei dati di addestramento può comportare un grande cambiamento nell'albero e di conseguenza nelle previsioni finali.\n",
    "- Il problema dell'apprendimento di un albero decisionale ottimale è noto per essere NP-completo. Di conseguenza, gli algoritmi pratici di apprendimento dell'albero decisionale sono basati su euristiche come l'algoritmo greedy in cui le decisioni ottimali a livello locale vengono prese in ciascun nodo. Tali algoritmi non possono garantire la restituzione dell'albero decisionale ottimale a livello globale.\n",
    "- Gli albero decisionali possono creare modelli troppo complessi che non si generalizzano bene i dati di training (Overfitting). Meccanismi come il pruning sono necessari per evitare questo problema (ad eccezione di alcuni algoritmi come l'approccio di inferenza condizionale).\n",
    "- Per i dati che includono variabili categoriche con un diverso numero di livelli, l'information gain (Entropia) negli alberi decisionali è sbilanciato a favore degli attributi con più livelli. Tuttavia, il problema della selezione distorta dei predittori può essere evitato dall'approccio di inferenza condizionale."
   ]
  },
  {
   "cell_type": "markdown",
   "metadata": {},
   "source": [
    "### Preparazione Insieme di Test e Training"
   ]
  },
  {
   "cell_type": "markdown",
   "metadata": {},
   "source": [
    "Prima di tutto assicuriamoci che questi risultati possano essere replicati:"
   ]
  },
  {
   "cell_type": "code",
   "execution_count": 35,
   "metadata": {},
   "outputs": [],
   "source": [
    "set.seed(2020)"
   ]
  },
  {
   "cell_type": "markdown",
   "metadata": {},
   "source": [
    "Poi recuperiamo il nostro dataset del Titanic contenente la variabile \"Survived\""
   ]
  },
  {
   "cell_type": "code",
   "execution_count": 36,
   "metadata": {},
   "outputs": [],
   "source": [
    "titanic <- titanic_full[1:891,] # survived data"
   ]
  },
  {
   "cell_type": "markdown",
   "metadata": {},
   "source": [
    "Verifichiamo per sicurezza se mancano dei dati nel nostro training test."
   ]
  },
  {
   "cell_type": "code",
   "execution_count": 37,
   "metadata": {},
   "outputs": [
    {
     "data": {
      "text/html": [
       "<style>\n",
       ".dl-inline {width: auto; margin:0; padding: 0}\n",
       ".dl-inline>dt, .dl-inline>dd {float: none; width: auto; display: inline-block}\n",
       ".dl-inline>dt::after {content: \":\\0020\"; padding-right: .5ex}\n",
       ".dl-inline>dt:not(:first-of-type) {padding-left: .5ex}\n",
       "</style><dl class=dl-inline><dt>Survived</dt><dd>0</dd><dt>Pclass</dt><dd>0</dd><dt>Sex</dt><dd>0</dd><dt>Age</dt><dd>0</dd><dt>Fare</dt><dd>0</dd><dt>Embarked</dt><dd>0</dd><dt>Title</dt><dd>0</dd><dt>FamilySize</dt><dd>0</dd><dt>IsAlone</dt><dd>0</dd></dl>\n"
      ],
      "text/latex": [
       "\\begin{description*}\n",
       "\\item[Survived] 0\n",
       "\\item[Pclass] 0\n",
       "\\item[Sex] 0\n",
       "\\item[Age] 0\n",
       "\\item[Fare] 0\n",
       "\\item[Embarked] 0\n",
       "\\item[Title] 0\n",
       "\\item[FamilySize] 0\n",
       "\\item[IsAlone] 0\n",
       "\\end{description*}\n"
      ],
      "text/markdown": [
       "Survived\n",
       ":   0Pclass\n",
       ":   0Sex\n",
       ":   0Age\n",
       ":   0Fare\n",
       ":   0Embarked\n",
       ":   0Title\n",
       ":   0FamilySize\n",
       ":   0IsAlone\n",
       ":   0\n",
       "\n"
      ],
      "text/plain": [
       "  Survived     Pclass        Sex        Age       Fare   Embarked      Title \n",
       "         0          0          0          0          0          0          0 \n",
       "FamilySize    IsAlone \n",
       "         0          0 "
      ]
     },
     "metadata": {},
     "output_type": "display_data"
    }
   ],
   "source": [
    "sapply(titanic, function(x) sum(is.na(x)))"
   ]
  },
  {
   "cell_type": "markdown",
   "metadata": {},
   "source": [
    "Dato che il set di dati Titanic fornisce dati di test con nessuno stato di sopravvivenza, in assenza di essi non avremmo mezzi per confrontare i nostri valori predetti dai modelli con i valori effettivi per valutare l'accuratezza del modelli. Pertanto, possiamo suddividere invece il trainig set per ottenere un'approssimazione delle prestazioni dei modelli (80% training, 20% test)."
   ]
  },
  {
   "cell_type": "code",
   "execution_count": 38,
   "metadata": {},
   "outputs": [],
   "source": [
    "split = sample.split(titanic$Survived, SplitRatio = 0.8)\n",
    "train = subset(titanic, split == TRUE)\n",
    "test = subset(titanic, split == FALSE)"
   ]
  },
  {
   "cell_type": "markdown",
   "metadata": {},
   "source": [
    "Ora siamo pronti per costruire e testare i nostri modelli predittivi."
   ]
  },
  {
   "cell_type": "markdown",
   "metadata": {},
   "source": [
    "### Costruzione della Formula per i Modelli"
   ]
  },
  {
   "cell_type": "markdown",
   "metadata": {},
   "source": [
    "Di seguito definiamo la variabile dipendente, le variabili indipendenti e le combiniamo in un modello."
   ]
  },
  {
   "cell_type": "code",
   "execution_count": 39,
   "metadata": {},
   "outputs": [],
   "source": [
    "# Outcome variable\n",
    "dependent_var <- \"Survived\"\n",
    "\n",
    "# Predictor variables Model\n",
    "independent_vars <- c(\"Pclass\", \"Sex\", \"Age\", \"Fare\", \"Embarked\", \"Title\", \"FamilySize\", \"IsAlone\")\n",
    "\n",
    "# Create the formula string \n",
    "formula <- paste(dependent_var, \"~\", paste(independent_vars, collapse = \" + \"))"
   ]
  },
  {
   "cell_type": "markdown",
   "metadata": {},
   "source": [
    "### Alberi di Decisione CART (Classification And Regression Tree)"
   ]
  },
  {
   "cell_type": "markdown",
   "metadata": {},
   "source": [
    "Gli alberi di classificazione e regressione (CART) sono una tecnica di apprendimento ad alberi decisionali non parametrica che produce alberi di classificazione o di regressione, a seconda che la variabile dipendente sia rispettivamente categorica o numerica. Nel nostro caso dunque dovendo predire la variabile \"Survived\" utilizzeremo alberi di classificazione.\n",
    "\n",
    "#### Alberi di Classificazione\n",
    "Gli alberi di classificazione rappresentano una metodologia che ha l’obiettivo di ottenere una segmentazione gerarchica di un insieme di unità statistiche mediante l’individuazione di “regole” (o “percorsi”) che sfruttano la relazione esistente tra una classe di appartenenza e le variabili rilevate per ciascuna unità.\n",
    "- Le regole basate sui valori delle variabili vengono selezionate per ottenere la migliore suddivisione per differenziare le osservazioni in base alla variabile dipendente.\n",
    "- Una volta che una regola è selezionata e divide un nodo in due nodi figli, lo stesso processo viene applicato a ciascun nodo \"figlio\" (partizionamento ricorsivo)\n",
    "- La divisione si interrompe quando si rileva che non è possibile ottenere più un guadagno (Gain) o vengono soddisfatte alcune regole di arresto preimpostate. (In alternativa, i dati vengono divisi il più possibile e quindi l'albero viene successivamente sfoltito.)\n",
    "\n",
    "Ogni ramo dell'albero termina in un nodo terminale. Ogni osservazione rientra in un unico nodo terminale e ogni nodo terminale è definito in modo univoco da un insieme di regole.\n",
    "\n",
    "#### Valutazione degli split\n",
    "Per valutare gli split negli alberi di classificazione ci si basa sull'omogeneità interna dei nodi ed eterogeneità esterna dei nodi figli. Lo scopo degli split è minimizzare l'impurezza (Impurity) dei nodi figli, può essere calcolata ad esempio attraverso:\n",
    "- Indice di Entropia: $-\\sum_{i=1}^{C} p_i*log_2(p_i)$\n",
    "- Indice di Gini: $\\sum_{i=1}^{C} p_i*(1-p_i)$\n",
    "\n",
    "Dove $p_i$ è semplicemente la frequenza di un elemento di classe \"i\" nel nodo e C è il numero di classi totali.\n",
    "Quando l'impurezza è pari a zero, il valore della variabile di risposta è lo stesso per tutte le osservazioni all'interno del nodo.\n",
    "\n",
    "#### Assegnazione delle Classi ai Nodi\n",
    "Ad ogni nodo terminale viene assegnata una delle C classi della variabile risposta. Ci sono varie regole che possono essere utilizzate per farlo, in generale se la foglia comprende casi appartenenti ad una sola classe, la classe assegnata al nodo è quella corrispondente alle unità che ne fanno parte, se la foglia comprende unità di classi diverse ed una delle classi ha frequenza più alta, la classe assegnata al nodo è quella corrispondente alla frequenza più alta, se la foglia comprende unità di classi diverse con la stessa frequenza, si ha una situazione di indecisione che viene risolta, in genere, assegnando casualmente la classe al nodo.\n",
    "\n",
    "#### Criteri di arresto\n",
    "Anche in questo caso le possibilità sono diverse, si può per esempio far crescere l'albero fino a raggiungere un numero di osservazioni minimo per ogni nodo, ci si può fermare quando la purezza dei nodi risulta maggiore di un valore prefissato, si può limitare la profondità dell'albero limitata oppure fermarsi solo quando abbiamo valori appartenenti ad una sola classe in ogni nodo.\n",
    "\n",
    "#### Potatura\n",
    "Per evitare problemi di overfitting che possono capitare sopratutto se si crea un albero molto profondo possiamo inizialmente far crescere totalmente l'albero per poi potarlo successivamente utilizzando dei metodi per individuare il numero di rami che ci garantiscano il minore *classication error rate* e la minima complessità dell'albero, ad esempio con una K-fold cross validation."
   ]
  },
  {
   "cell_type": "markdown",
   "metadata": {},
   "source": [
    "### Alberi di Decisione con pacchetto TREE"
   ]
  },
  {
   "cell_type": "markdown",
   "metadata": {},
   "source": [
    "L'algoritmo TREE crea un albero utilizzando un partizionamento ricorsivo binario utilizzando la variabile di risposta nella formula specificata. Le variabili numeriche sono divise in $X<a$ e $X>b$ i livelli di variabili fattore non ordinate invece sono divisi in due gruppi non vuoti. Viene scelta la divisione che massimizza la riduzione dell'impurità, il dataset viene splittato e il processo viene ripetuto. Lo splitting continua fino a quando i nodi terminali sono troppo piccoli o troppo pochi per essere divisi. La crescita dell'albero è limitata a una profondità di 31 e le variabili fattore possono avere fino a 32 livelli.\n",
    "\n",
    "\n",
    "L'algoritmo TREE offre come metodo di split di default l'indice di Entropia. In alternativa permette l'utilizzo dell'indice di Gini. Inoltre di default la funzione segue le seguenti regole che determinano la regola di stop dell'albero:\n",
    "- Il numero minimo delle osservazioni da inserire in ogni nodo figlio è pari a 5.\n",
    "- La dimensione minima di ogni nodo devi essere pari a 10.\n",
    "- L'Entropia all'interno del nodo deve essere almeno uguale all'1% di quella del nodo radice per poter effettuare lo split.\n",
    "\n",
    "Mentre per la potatura avviene scegliendo il numero di nodi terminali che l'albero dovrà avere, numero che può essere scelto come quello che minimizza il *cross validation error* (in alternativa l'entropia). La procedura è eseguita in modo ricorsivo determinando una sequenza annidata di sottostrutture dell'albero fornito tagliando i rami meno importanti rispetto al *cross validation error*."
   ]
  },
  {
   "cell_type": "markdown",
   "metadata": {},
   "source": [
    "#### Pacchetto TREE con Entropia per lo Split"
   ]
  },
  {
   "cell_type": "markdown",
   "metadata": {},
   "source": [
    "Per prima cosa modelliamo il nostro albero sul train set."
   ]
  },
  {
   "cell_type": "code",
   "execution_count": 40,
   "metadata": {},
   "outputs": [
    {
     "data": {
      "image/png": "[encoded data removed]",
      "text/plain": [
       "plot without title"
      ]
     },
     "metadata": {
      "image/png": {
       "height": 420,
       "width": 420
      }
     },
     "output_type": "display_data"
    }
   ],
   "source": [
    "# Let’s ensure these results can be replicated\n",
    "set.seed(2020)\n",
    "\n",
    "# TREE with entropy\n",
    "tree_model <- tree(formula, data = train, split = \"deviance\")\n",
    "plot(tree_model, type = \"uniform\", main = \"TREE Package with Entropy\")\n",
    "text(tree_model, pretty=5, cex=1)"
   ]
  },
  {
   "cell_type": "markdown",
   "metadata": {},
   "source": [
    "Poi andiamo a predirre i passeggeri sopravvisuti sul test set e calcoliamo la matrice di confusione e l'accuratezza della nostra predizione attraverso il *misclassification error*."
   ]
  },
  {
   "cell_type": "code",
   "execution_count": 41,
   "metadata": {},
   "outputs": [
    {
     "data": {
      "text/plain": [
       "               \n",
       "tree_prediction  0  1\n",
       "              0 98 13\n",
       "              1 12 55"
      ]
     },
     "metadata": {},
     "output_type": "display_data"
    },
    {
     "data": {
      "text/html": [
       "'Accuracy = 0.85955'"
      ],
      "text/latex": [
       "'Accuracy = 0.85955'"
      ],
      "text/markdown": [
       "'Accuracy = 0.85955'"
      ],
      "text/plain": [
       "[1] \"Accuracy = 0.85955\""
      ]
     },
     "metadata": {},
     "output_type": "display_data"
    }
   ],
   "source": [
    "# Predict Survived\n",
    "tree_prediction <- predict(tree_model, test, type = \"class\")\n",
    "confusion_matrix <- table(tree_prediction, test$Survived)\n",
    "confusion_matrix\n",
    "error <- mean(test$Survived != tree_prediction) # misclassification error\n",
    "paste('Accuracy =', round(1 - error, 5))"
   ]
  },
  {
   "cell_type": "markdown",
   "metadata": {},
   "source": [
    "Ricerchiamo il miglior numero di nodi terminali (foglia) utilizzando come metrica il *cross validation error*."
   ]
  },
  {
   "cell_type": "code",
   "execution_count": 42,
   "metadata": {},
   "outputs": [
    {
     "data": {
      "text/plain": [
       "$size\n",
       "[1] 5 4 2 1\n",
       "\n",
       "$dev\n",
       "[1] 129 129 159 274\n",
       "\n",
       "$k\n",
       "[1] -Inf    0   15  119\n",
       "\n",
       "$method\n",
       "[1] \"misclass\"\n",
       "\n",
       "attr(,\"class\")\n",
       "[1] \"prune\"         \"tree.sequence\""
      ]
     },
     "metadata": {},
     "output_type": "display_data"
    },
    {
     "data": {
      "image/png": "[encoded data removed]",
      "text/plain": [
       "Plot with title \"TREE Package with Entropy - Choosing Size of the Tree\""
      ]
     },
     "metadata": {
      "image/png": {
       "height": 420,
       "width": 420
      }
     },
     "output_type": "display_data"
    }
   ],
   "source": [
    "# Let’s ensure these results can be replicated\n",
    "set.seed(2020)\n",
    "\n",
    "# Search best size (leaf nodes) for the tree\n",
    "tree_cv <- cv.tree(tree_model, K = 10, FUN = prune.misclass)\n",
    "tree_cv\n",
    "plot(tree_cv$size, tree_cv$dev, type=\"b\", xlab=\"size\", ylab=\"cverror\", main=\"TREE Package with Entropy - Choosing Size of the Tree\", cex=2)\n",
    "best_size <- tail(tree_cv$size[which(tree_cv$dev==min(tree_cv$dev))], n=1)"
   ]
  },
  {
   "cell_type": "markdown",
   "metadata": {},
   "source": [
    "Pruniamo l'albero utilizzando i numero di nodi terminali migliori trovati nel grafico precedente."
   ]
  },
  {
   "cell_type": "code",
   "execution_count": 43,
   "metadata": {},
   "outputs": [
    {
     "data": {
      "image/png": "[encoded data removed]",
      "text/plain": [
       "plot without title"
      ]
     },
     "metadata": {
      "image/png": {
       "height": 420,
       "width": 420
      }
     },
     "output_type": "display_data"
    }
   ],
   "source": [
    "pruned_tree <- prune.misclass(tree_model, best=best_size)\n",
    "plot(pruned_tree, type = \"uniform\", main=\"TREE Package with Entropy - Pruned\")\n",
    "text(pruned_tree, pretty=5, cex=1)"
   ]
  },
  {
   "cell_type": "markdown",
   "metadata": {},
   "source": [
    "Infine andiamo a predirre i passeggeri sopravvisuti sul test set con l'albero prunato."
   ]
  },
  {
   "cell_type": "code",
   "execution_count": 44,
   "metadata": {},
   "outputs": [
    {
     "data": {
      "text/plain": [
       "                       \n",
       "pruned_tree_predictions  0  1\n",
       "                      0 98 13\n",
       "                      1 12 55"
      ]
     },
     "metadata": {},
     "output_type": "display_data"
    },
    {
     "data": {
      "text/html": [
       "'Accuracy = 0.85955'"
      ],
      "text/latex": [
       "'Accuracy = 0.85955'"
      ],
      "text/markdown": [
       "'Accuracy = 0.85955'"
      ],
      "text/plain": [
       "[1] \"Accuracy = 0.85955\""
      ]
     },
     "metadata": {},
     "output_type": "display_data"
    }
   ],
   "source": [
    "# Prune tree predictions\n",
    "pruned_tree_predictions <- predict(pruned_tree, test, type = \"class\")\n",
    "pruned_confusion_matrix <- table(pruned_tree_predictions, test$Survived) #confusion Matrix\n",
    "pruned_confusion_matrix\n",
    "error <- mean(test$Survived != pruned_tree_predictions) # Misclassification error\n",
    "paste('Accuracy =', round(1 - error, 5))"
   ]
  },
  {
   "cell_type": "markdown",
   "metadata": {},
   "source": [
    "#### Pacchetto TREE con Gini per lo Split"
   ]
  },
  {
   "cell_type": "markdown",
   "metadata": {},
   "source": [
    "Per prima cosa modelliamo il nostro albero sul train set."
   ]
  },
  {
   "cell_type": "code",
   "execution_count": 45,
   "metadata": {},
   "outputs": [
    {
     "data": {
      "image/png": "[encoded data removed]",
      "text/plain": [
       "plot without title"
      ]
     },
     "metadata": {
      "image/png": {
       "height": 420,
       "width": 420
      }
     },
     "output_type": "display_data"
    }
   ],
   "source": [
    "# Let’s ensure these results can be replicated\n",
    "set.seed(2020)\n",
    "\n",
    "# Decision tree with Gini Index\n",
    "tree_model <- tree(formula, data = train, split = \"gini\")\n",
    "plot(tree_model, type = \"uniform\",  main=\"TREE Package with Gini\")\n",
    "text(tree_model, pretty=5, cex=0.6)"
   ]
  },
  {
   "cell_type": "markdown",
   "metadata": {},
   "source": [
    "Poi andiamo a predirre i passeggeri sopravvisuti sul test set e calcoliamo la matrice di confusione e l'accuratezza della nostra predizione attraverso il misclassification error."
   ]
  },
  {
   "cell_type": "code",
   "execution_count": 46,
   "metadata": {},
   "outputs": [
    {
     "data": {
      "text/plain": [
       "               \n",
       "tree_prediction  0  1\n",
       "              0 99 19\n",
       "              1 11 49"
      ]
     },
     "metadata": {},
     "output_type": "display_data"
    },
    {
     "data": {
      "text/html": [
       "'Accuracy = 0.83146'"
      ],
      "text/latex": [
       "'Accuracy = 0.83146'"
      ],
      "text/markdown": [
       "'Accuracy = 0.83146'"
      ],
      "text/plain": [
       "[1] \"Accuracy = 0.83146\""
      ]
     },
     "metadata": {},
     "output_type": "display_data"
    }
   ],
   "source": [
    "# Predict Survived\n",
    "tree_prediction <- predict(tree_model, test, type = \"class\")\n",
    "confusion_matrix <- table(tree_prediction, test$Survived)\n",
    "confusion_matrix\n",
    "error <- mean(test$Survived != tree_prediction) # Misclassification error\n",
    "paste('Accuracy =', round(1 - error, 5))"
   ]
  },
  {
   "cell_type": "markdown",
   "metadata": {},
   "source": [
    "Ricerchiamo il miglior numero di nodi terminali (foglia) utilizzando come metrica il cross validation error."
   ]
  },
  {
   "cell_type": "code",
   "execution_count": 47,
   "metadata": {},
   "outputs": [
    {
     "data": {
      "image/png": "[encoded data removed]",
      "text/plain": [
       "Plot with title \"TREE Package with Gini - Choosing Size of the Tree\""
      ]
     },
     "metadata": {
      "image/png": {
       "height": 420,
       "width": 420
      }
     },
     "output_type": "display_data"
    }
   ],
   "source": [
    "# Search best size (leaf nodes) for the tree\n",
    "tree_cv <- cv.tree(tree_model, K = 10, FUN = prune.misclass)\n",
    "plot(tree_cv$size, tree_cv$dev, type=\"b\", xlab=\"size\", ylab=\"cverror\", main=\"TREE Package with Gini - Choosing Size of the Tree\", cex=2)\n",
    "best_size <- tail(tree_cv$size[which(tree_cv$dev==min(tree_cv$dev))], n=1)"
   ]
  },
  {
   "cell_type": "markdown",
   "metadata": {},
   "source": [
    "Pruniamo l'albero utilizzando i numero di nodi terminali migliori trovati nel grafico precedente."
   ]
  },
  {
   "cell_type": "code",
   "execution_count": 48,
   "metadata": {},
   "outputs": [
    {
     "data": {
      "image/png": "[encoded data removed]",
      "text/plain": [
       "plot without title"
      ]
     },
     "metadata": {
      "image/png": {
       "height": 420,
       "width": 420
      }
     },
     "output_type": "display_data"
    }
   ],
   "source": [
    "# Prune tree\n",
    "pruned_tree <- prune.misclass(tree_model, best=best_size)\n",
    "plot(pruned_tree, type = \"uniform\", main=\"TREE Package with Gini - Pruned\")\n",
    "text(pruned_tree, pretty=5, cex=1)"
   ]
  },
  {
   "cell_type": "markdown",
   "metadata": {},
   "source": [
    "Infine andiamo a predirre i passeggeri sopravvisuti sul test set con l'albero prunato."
   ]
  },
  {
   "cell_type": "code",
   "execution_count": 49,
   "metadata": {},
   "outputs": [
    {
     "data": {
      "text/plain": [
       "                       \n",
       "pruned_tree_predictions  0  1\n",
       "                      0 99 14\n",
       "                      1 11 54"
      ]
     },
     "metadata": {},
     "output_type": "display_data"
    },
    {
     "data": {
      "text/html": [
       "'Accuracy = 0.85955'"
      ],
      "text/latex": [
       "'Accuracy = 0.85955'"
      ],
      "text/markdown": [
       "'Accuracy = 0.85955'"
      ],
      "text/plain": [
       "[1] \"Accuracy = 0.85955\""
      ]
     },
     "metadata": {},
     "output_type": "display_data"
    }
   ],
   "source": [
    "# Prune tree predictions\n",
    "pruned_tree_predictions <- predict(pruned_tree, test, type = \"class\")\n",
    "pruned_confusion_matrix <- table(pruned_tree_predictions, test$Survived) #confusion Matrix\n",
    "pruned_confusion_matrix\n",
    "error <- mean(test$Survived != pruned_tree_predictions) # Misclassification error\n",
    "paste('Accuracy =', round(1 - error, 5))"
   ]
  },
  {
   "cell_type": "markdown",
   "metadata": {},
   "source": [
    "### Alberi di Decisione con pacchetto RPART"
   ]
  },
  {
   "cell_type": "markdown",
   "metadata": {},
   "source": [
    "RPART è una reimplementazione moderna del pacchetto tree visto precedentemente, quindi in generale si comporta allo stesso modo tree ma risulta più efficiente dato che molte più parti vengono eseguite in codice C. \n",
    "\n",
    "Una delle più grosse differenze tra questi due pacchetti è il modo in cui trattano i valori mancanti nei processi di splitting e di valutaione. Con tree, un'osservazione con un valore mancante per la regola di split scelta non viene inviata più in basso nell'albero. Dall'altra parte, con Rpart, gli utenti possono scegliere il modo di gestire i valori mancanti, incluso l'uso di surrogati. Inoltre Rpart offre maggiore flessibilità durante la crescita degli alberi, vengono infatti offerti circa 9 parametri per impostare il processo di modellazione dell'albero, mentre Tree ne offre solo 3.\n",
    "\n",
    "In particolare l'algoritmo RPART offre come metodo di split di default l'indice di Gini ma offre anche l'Entropia, sempre di default la dimensione minima di ogni nodo deve essere 20 e\n",
    "la profondità massima dell'albero è pari a 30. Infine l'algoritmo RPART come il precedente pacchetto agisce facendo la migliore scelta/suddivisione possibile in ogni fase di split in quel dato momento, Cioè non fa caso al fatto se questa decisione rimanga ottimale negli split futuri (algoritmo greedy)."
   ]
  },
  {
   "cell_type": "markdown",
   "metadata": {},
   "source": [
    "#### Pacchetto RPART con Gini per lo Split"
   ]
  },
  {
   "cell_type": "markdown",
   "metadata": {},
   "source": [
    "Per prima cosa modelliamo il nostro albero sul train set."
   ]
  },
  {
   "cell_type": "code",
   "execution_count": 50,
   "metadata": {},
   "outputs": [
    {
     "data": {
      "image/png": "[encoded data removed]",
      "text/plain": [
       "Plot with title \"RPART Package with Gini\""
      ]
     },
     "metadata": {
      "image/png": {
       "height": 420,
       "width": 420
      }
     },
     "output_type": "display_data"
    }
   ],
   "source": [
    "# Let’s ensure these results can be replicated\n",
    "set.seed(2020)\n",
    "\n",
    "# RPART tree with Gini\n",
    "rtree_model <- rpart(formula, data = train, method = \"class\", parms = list(split='gini'))\n",
    "fancyRpartPlot(rtree_model, main=\"RPART Package with Gini\", sub = \"\")"
   ]
  },
  {
   "cell_type": "markdown",
   "metadata": {},
   "source": [
    "Poi andiamo a predirre i passeggeri sopravvisuti sul test set e calcoliamo la matrice di confusione e l'accuratezza della nostra predizione attraverso il misclassification error."
   ]
  },
  {
   "cell_type": "code",
   "execution_count": 51,
   "metadata": {},
   "outputs": [
    {
     "data": {
      "text/plain": [
       "                       \n",
       "rtree_model_predictions   0   1\n",
       "                      0 103  17\n",
       "                      1   7  51"
      ]
     },
     "metadata": {},
     "output_type": "display_data"
    },
    {
     "data": {
      "text/html": [
       "'Accuracy = 0.86517'"
      ],
      "text/latex": [
       "'Accuracy = 0.86517'"
      ],
      "text/markdown": [
       "'Accuracy = 0.86517'"
      ],
      "text/plain": [
       "[1] \"Accuracy = 0.86517\""
      ]
     },
     "metadata": {},
     "output_type": "display_data"
    }
   ],
   "source": [
    "# Predict Survived\n",
    "rtree_model_predictions <- predict(rtree_model, test, type = \"class\")\n",
    "confusion_matrix <- table(rtree_model_predictions, test$Survived) #confusion Matrix\n",
    "confusion_matrix\n",
    "error <- mean(test$Survived != rtree_model_predictions) # Misclassification error\n",
    "paste('Accuracy =', round(1 - error, 5))"
   ]
  },
  {
   "cell_type": "markdown",
   "metadata": {},
   "source": [
    "Ricerchiamo il miglior indice per effettuare il prunaggio dell'albero attraverso una cross-validation."
   ]
  },
  {
   "cell_type": "code",
   "execution_count": 52,
   "metadata": {},
   "outputs": [
    {
     "data": {
      "image/png": "[encoded data removed]",
      "text/plain": [
       "plot without title"
      ]
     },
     "metadata": {
      "image/png": {
       "height": 420,
       "width": 420
      }
     },
     "output_type": "display_data"
    }
   ],
   "source": [
    "# Search best index\n",
    "plotcp(rtree_model, cex=2)"
   ]
  },
  {
   "cell_type": "markdown",
   "metadata": {},
   "source": [
    "Pruniamo l'albero utilizzando l'indice di complessità più basso ricavato dal grafico precedente."
   ]
  },
  {
   "cell_type": "code",
   "execution_count": 53,
   "metadata": {},
   "outputs": [
    {
     "data": {
      "image/png": "[encoded data removed]",
      "text/plain": [
       "Plot with title \"RPART Package with Gini - Pruned\""
      ]
     },
     "metadata": {
      "image/png": {
       "height": 420,
       "width": 420
      }
     },
     "output_type": "display_data"
    }
   ],
   "source": [
    "# Pruning the tree\n",
    "pruned_rtree <- prune.rpart(rtree_model, cp=rtree_model$cptable[which.min(rtree_model$cptable[,\"xerror\"]),\"CP\"])\n",
    "fancyRpartPlot(pruned_rtree, main=\"RPART Package with Gini - Pruned\", sub = \"\")"
   ]
  },
  {
   "cell_type": "markdown",
   "metadata": {},
   "source": [
    "Infine andiamo a predirre i passeggeri sopravvisuti sul test set con l'albero prunato."
   ]
  },
  {
   "cell_type": "code",
   "execution_count": 54,
   "metadata": {},
   "outputs": [
    {
     "data": {
      "text/plain": [
       "                        \n",
       "pruned_rtree_predictions  0  1\n",
       "                       0 98 13\n",
       "                       1 12 55"
      ]
     },
     "metadata": {},
     "output_type": "display_data"
    },
    {
     "data": {
      "text/html": [
       "'Accuracy = 0.85955'"
      ],
      "text/latex": [
       "'Accuracy = 0.85955'"
      ],
      "text/markdown": [
       "'Accuracy = 0.85955'"
      ],
      "text/plain": [
       "[1] \"Accuracy = 0.85955\""
      ]
     },
     "metadata": {},
     "output_type": "display_data"
    }
   ],
   "source": [
    "pruned_rtree_predictions <- predict(pruned_rtree, test, type = \"class\")\n",
    "confusion_matrix <- table(pruned_rtree_predictions, test$Survived) #confusion Matrix\n",
    "confusion_matrix\n",
    "error <- mean(test$Survived != pruned_rtree_predictions) # Misclassification error\n",
    "paste('Accuracy =', round(1 - error, 5))"
   ]
  },
  {
   "cell_type": "markdown",
   "metadata": {},
   "source": [
    "#### Pacchetto RPART con Entropia per lo Split"
   ]
  },
  {
   "cell_type": "markdown",
   "metadata": {},
   "source": [
    "Per prima cosa modelliamo il nostro albero sul train set."
   ]
  },
  {
   "cell_type": "code",
   "execution_count": 55,
   "metadata": {},
   "outputs": [
    {
     "data": {
      "image/png": "[encoded data removed]",
      "text/plain": [
       "Plot with title \"RPART Package with Entropy\""
      ]
     },
     "metadata": {
      "image/png": {
       "height": 420,
       "width": 420
      }
     },
     "output_type": "display_data"
    }
   ],
   "source": [
    "# Let’s ensure these results can be replicated\n",
    "set.seed(2020)\n",
    "\n",
    "# RPART tree with Entropy\n",
    "rtree_model <- rpart(formula, data = train, method = \"class\", parms = list(split='information'))\n",
    "fancyRpartPlot(rtree_model, main=\"RPART Package with Entropy\", sub = \"\")"
   ]
  },
  {
   "cell_type": "markdown",
   "metadata": {},
   "source": [
    "Poi andiamo a predirre i passeggeri sopravvisuti sul test set e calcoliamo la matrice di confusione e l'accuratezza della nostra predizione attraverso il misclassification error."
   ]
  },
  {
   "cell_type": "code",
   "execution_count": 56,
   "metadata": {},
   "outputs": [
    {
     "data": {
      "text/plain": [
       "                       \n",
       "rtree_model_predictions   0   1\n",
       "                      0 103  17\n",
       "                      1   7  51"
      ]
     },
     "metadata": {},
     "output_type": "display_data"
    },
    {
     "data": {
      "text/html": [
       "'Accuracy = 0.86517'"
      ],
      "text/latex": [
       "'Accuracy = 0.86517'"
      ],
      "text/markdown": [
       "'Accuracy = 0.86517'"
      ],
      "text/plain": [
       "[1] \"Accuracy = 0.86517\""
      ]
     },
     "metadata": {},
     "output_type": "display_data"
    }
   ],
   "source": [
    "# Predict Survived\n",
    "rtree_model_predictions <- predict(rtree_model, test, type = \"class\")\n",
    "confusion_matrix <- table(rtree_model_predictions, test$Survived) #confusion Matrix\n",
    "confusion_matrix\n",
    "error <- mean(test$Survived != rtree_model_predictions) # Misclassification error\n",
    "paste('Accuracy =', round(1 - error, 5))"
   ]
  },
  {
   "cell_type": "markdown",
   "metadata": {},
   "source": [
    "Ricerchiamo il miglior indice per effettuare il prunaggio dell'albero attraverso una cross-validation."
   ]
  },
  {
   "cell_type": "code",
   "execution_count": 57,
   "metadata": {},
   "outputs": [
    {
     "data": {
      "image/png": "[encoded data removed]",
      "text/plain": [
       "plot without title"
      ]
     },
     "metadata": {
      "image/png": {
       "height": 420,
       "width": 420
      }
     },
     "output_type": "display_data"
    }
   ],
   "source": [
    "# Search best index\n",
    "plotcp(rtree_model, cex=2)"
   ]
  },
  {
   "cell_type": "markdown",
   "metadata": {},
   "source": [
    "Pruniamo l'albero utilizzando l'indice di complessità più basso ricavato dal grafico precedente."
   ]
  },
  {
   "cell_type": "code",
   "execution_count": 58,
   "metadata": {},
   "outputs": [
    {
     "data": {
      "image/png": "[encoded data removed]",
      "text/plain": [
       "Plot with title \"RPART Package with Entropy - Pruned\""
      ]
     },
     "metadata": {
      "image/png": {
       "height": 420,
       "width": 420
      }
     },
     "output_type": "display_data"
    }
   ],
   "source": [
    "# Pruning the tree\n",
    "pruned_rtree <- prune.rpart(rtree_model, cp=rtree_model$cptable[which.min(rtree_model$cptable[,\"xerror\"]),\"CP\"])\n",
    "fancyRpartPlot(pruned_rtree, main=\"RPART Package with Entropy - Pruned\", sub = \"\")"
   ]
  },
  {
   "cell_type": "markdown",
   "metadata": {},
   "source": [
    "Infine andiamo a predirre i passeggeri sopravvisuti sul test set con l'albero prunato."
   ]
  },
  {
   "cell_type": "code",
   "execution_count": 59,
   "metadata": {},
   "outputs": [
    {
     "data": {
      "text/plain": [
       "                        \n",
       "pruned_rtree_predictions  0  1\n",
       "                       0 98 13\n",
       "                       1 12 55"
      ]
     },
     "metadata": {},
     "output_type": "display_data"
    },
    {
     "data": {
      "text/html": [
       "'Accuracy = 0.85955'"
      ],
      "text/latex": [
       "'Accuracy = 0.85955'"
      ],
      "text/markdown": [
       "'Accuracy = 0.85955'"
      ],
      "text/plain": [
       "[1] \"Accuracy = 0.85955\""
      ]
     },
     "metadata": {},
     "output_type": "display_data"
    }
   ],
   "source": [
    "# Prune tree predictions\n",
    "pruned_rtree_predictions <- predict(pruned_rtree, test, type = \"class\")\n",
    "confusion_matrix <- table(pruned_rtree_predictions, test$Survived) #confusion Matrix\n",
    "confusion_matrix\n",
    "error <- mean(test$Survived != pruned_rtree_predictions) # Misclassification error\n",
    "paste('Accuracy =', round(1 - error, 5))"
   ]
  },
  {
   "cell_type": "markdown",
   "metadata": {},
   "source": [
    "### Alberi di Decisione con pacchetto PARTY"
   ]
  },
  {
   "cell_type": "markdown",
   "metadata": {},
   "source": [
    "Il paccketto PARTY di R include l'algoritmo CTREE per creare degli alberi di inferenza condizionale, ovvero, alberi che stimano una relazione di regressione mediante il partizionamento ricorsivo binario in un framework di inferenza condizionale. Approssimativamente, l'algoritmo funziona come segue: \n",
    "1. Viene effettuato un test di ipotesi nulla di indipendenza tra una qualsiasi delle variabili di input e la variabile risposta (che può essere multivariata). Si ferma se questa ipotesi non può essere rifiutata, altrimenti si seleziona la variabile di input con la più forte associazione alla variabile di risposta. Questa associazione è misurata da un p-value corrispondente a un test per l'ipotesi nulla parziale di una singola variabile di input e la variabile risposta.\n",
    "2. Viene implementato uno split binario nella variabile di input selezionata. \n",
    "3. Ripete in modo ricorsivo i passaggi 1) e 2).\n",
    "\n",
    "Il criterio di stop è massimizzato, cioè viene utilizzato 1 - p-value. Uno split viene effettuato quando il criterio supera il valore minimo fornito (di default è *mincriterion* = 0.95, dunque con una soglia $\\alpha=0.05$). Ad esempio, quando *mincriterion* = 0.95, il p-value deve essere minore di\n",
    "0.05 per dividere questo nodo. Questo approccio statistico garantisce la crescita di un albero nella giusta dimensione\n",
    "e non è necessaria alcuna forma di pruning o cross-validation.\n",
    "\n",
    "In particolare di default l'agoritmo CTREE richiede che la dimensione minima di ogni nodo sia 20 mentre nessuna restrizione viene applicata alla profondità dell'albero."
   ]
  },
  {
   "cell_type": "markdown",
   "metadata": {},
   "source": [
    "Creiamo dunque il nostro albero di inferenza condizionale richiamando l'algoritmo CTREE."
   ]
  },
  {
   "cell_type": "code",
   "execution_count": 60,
   "metadata": {},
   "outputs": [
    {
     "data": {
      "image/png": "[encoded data removed]",
      "text/plain": [
       "plot without title"
      ]
     },
     "metadata": {
      "image/png": {
       "height": 420,
       "width": 420
      }
     },
     "output_type": "display_data"
    }
   ],
   "source": [
    "# Let’s ensure these results can be replicated\n",
    "set.seed(2020)\n",
    "\n",
    "# Conditional Inference Tree - Party\n",
    "party_tree_model <- ctree(as.formula(formula), data = train)\n",
    "plot(party_tree_model, type = \"simple\", main=\"Conditional Inference Tree\")"
   ]
  },
  {
   "cell_type": "markdown",
   "metadata": {},
   "source": [
    "Ed andiamo poi a predirre i passeggeri sopravvisuti sul test set e calcoliamo la matrice di confusione e l'accuratezza della nostra predizione attraverso il *misclassification error*."
   ]
  },
  {
   "cell_type": "code",
   "execution_count": 61,
   "metadata": {},
   "outputs": [
    {
     "data": {
      "text/plain": [
       "                      \n",
       "party_tree_predictions  0  1\n",
       "                     0 95 13\n",
       "                     1 15 55"
      ]
     },
     "metadata": {},
     "output_type": "display_data"
    },
    {
     "data": {
      "text/html": [
       "'Accuracy = 0.8427'"
      ],
      "text/latex": [
       "'Accuracy = 0.8427'"
      ],
      "text/markdown": [
       "'Accuracy = 0.8427'"
      ],
      "text/plain": [
       "[1] \"Accuracy = 0.8427\""
      ]
     },
     "metadata": {},
     "output_type": "display_data"
    }
   ],
   "source": [
    "# Predict Survived\n",
    "party_tree_predictions <- predict(party_tree_model, test)\n",
    "confusion_matrix <- table(party_tree_predictions, test$Survived) #confusion Matrix\n",
    "confusion_matrix\n",
    "error <- mean(test$Survived != party_tree_predictions) # Misclassification error\n",
    "paste('Accuracy =', round(1 - error, 5))"
   ]
  },
  {
   "cell_type": "markdown",
   "metadata": {},
   "source": [
    "### Alberi di Decisione con Pacchetto EVTREE"
   ]
  },
  {
   "cell_type": "markdown",
   "metadata": {},
   "source": [
    "Algoritmi di classificazione e di regressione con modelli ad albero comunemente usati come l'algoritmo CART sono metodi di partizionamento ricorsivo che costruiscono il modello in una ricerca progressiva in avanti. Sebbene questo approccio sia noto per essere un'euristica efficiente, i risultati dei metodi dell'albero ricorsivo sono ottimali solo a livello locale, poiché le suddivisioni vengono scelte per massimizzare l'omogeneità al solo il passaggio successivo. Un modo alternativo per cercare nello spazio dei parametri degli alberi è quello di\n",
    "utilizzare metodi di ottimizzazione globale come gli algoritmi evolutivi.\n",
    "\n",
    "Il pacchetto EVTREE implementa un algoritmo evolutivo per l'apprendimento ottimale a livello globale di alberi di classificazione e regressione in R, dove i compiti computazionalmente intensivi sono completamente eseguiti in C ++. Di seguito vengono forniti i dettagli della selezione evolutiva seguendo lo schema generale qui sotto.\n",
    "\n",
    "1. Inizializza la popolazione.\n",
    "2. Valuta ogni individuo.\n",
    "3. While (la condizione di terminazione non è soddisfatta):\n",
    " - Seleziona i genitori.\n",
    " - Modifica gli individui selezionati tramite operatori di variazione.\n",
    " - Valuta le nuove soluzioni.\n",
    " - Seleziona i sopravvissuti per la prossima generazione.\n",
    "\n",
    "Approssimativamente, l'algoritmo funziona come segue. Innanzitutto, un insieme di alberi viene inizializzato con regole di split casuali nei nodi radice. In secondo luogo, gli operatori di mutazione e crossover vengono applicati per modificare la struttura degli alberi e i test applicati ai nodi interni. Dopo ogni fase di modifica, c'è una fase di valutazione dei risultati ottenuti con le modifiche e successivamente un meccanismo di selezione dei sopravvissuti seleziona i migliori modelli candidati per l'iterazione successiva. In questo processo evolutivo la qualità media della popolazione aumenta nel tempo. L'algoritmo termina quando la qualità degli alberi migliori non migliora ulteriormente, ma non oltre un numero massimo di iterazioni specificato da *niterations* (10000 di default).\n",
    "\n",
    "#### Inizializzazione\n",
    "Ogni albero della popolazione viene inizializzato con una regola di split valida, generata in modo casuale nel nodo radice.\n",
    "\n",
    "#### Selezione del Genitore\n",
    "In ogni iterazione, ogni albero viene selezionato una volta per essere modificato da uno degli operatori di variazione. Nei casi in cui viene applicato l'operatore di crossover, il secondo genitore viene selezionato in modo casuale dalla popolazione rimanente. In questo modo, alcuni alberi vengono selezionati più di una volta in ciascuna iterazione.\n",
    "\n",
    "#### Operatori di Variazione\n",
    "Il nostro algoritmo utilizza quattro tipi di operatori di mutazione e un operatore di crossover. In ogni fase di modifica, uno degli operatori di variazione viene selezionato casualmente per ogni albero.\n",
    "\n",
    "#### Funzione di Valutazione\n",
    "La funzione di valutazione rappresenta i requisiti a cui la popolazione dovrebbe adattarsi. Una funzione di valutazione adeguata per la classificazione e gli alberi di regressione massimizza la precisione dei modelli sui dati di training e riduce al minimo la complessità dei modelli.\n",
    "\n",
    "#### Selezione dei Sopravvissuti\n",
    "Utilizza un *crowding approach* deterministico, in cui ogni soluzione genitore compete con la sua prole più simile per un posto nella popolazione. Nel caso di un operatore di mutazione, o la soluzione prima della modifica o dopo la modifica, viene mantenuto in memoria. Nel caso dell'operatore di crossover, le soluzioni iniziali competono con quelle successive. La selezione avviene in modo deterministico. L'albero con fitness inferiore, secondo la funzione di valutazione, viene rifiutato. Si noti che, a causa della definizione dell'operatore di crossover, alcuni alberi\n",
    "vengono selezionati più di una volta in un'iterazione. Di conseguenza, questi alberi subiscono il processo di selezione dei sopravvissuti più di una volta in una iterazione.\n",
    "\n",
    "#### Terminazione\n",
    "Utilizzando i parametri di default, l'algoritmo termina quando la qualità del 5% dei migliori alberi si stabilizza per 100 iterazioni, ma non prima di 1000 iterazioni. Se l'esecuzione non converge l'algoritmo termina dopo un numero di iterazioni specificato dall'utente. L'albero con la massima qualità in base alla funzione di valutazione viene restituito."
   ]
  },
  {
   "cell_type": "markdown",
   "metadata": {},
   "source": [
    "Creiamo dunque il nostro alberoevolutivo per l'apprendimento ottimale richiamando l'algoritmo EVTREE."
   ]
  },
  {
   "cell_type": "code",
   "execution_count": 62,
   "metadata": {},
   "outputs": [
    {
     "data": {
      "image/png": "[encoded data removed]",
      "text/plain": [
       "plot without title"
      ]
     },
     "metadata": {
      "image/png": {
       "height": 420,
       "width": 420
      }
     },
     "output_type": "display_data"
    }
   ],
   "source": [
    "# Let’s ensure these results can be replicated\n",
    "set.seed(2020)\n",
    "\n",
    "# Evolutionary Learning of Globally Optimal Trees\n",
    "ev_tree_model <- evtree(formula, data = train)\n",
    "plot(ev_tree_model, type = \"simple\", main=\"Evolutionary Learning of Globally Optimal Tree\")"
   ]
  },
  {
   "cell_type": "markdown",
   "metadata": {},
   "source": [
    "Ed andiamo poi a predirre i passeggeri sopravvisuti sul test set e calcoliamo la matrice di confusione e l'accuratezza della nostra predizione attraverso il *misclassification error*."
   ]
  },
  {
   "cell_type": "code",
   "execution_count": 63,
   "metadata": {},
   "outputs": [
    {
     "data": {
      "text/plain": [
       "                   \n",
       "ev_tree_predictions   0   1\n",
       "                  0 100  13\n",
       "                  1  10  55"
      ]
     },
     "metadata": {},
     "output_type": "display_data"
    },
    {
     "data": {
      "text/html": [
       "'Accuracy = 0.87079'"
      ],
      "text/latex": [
       "'Accuracy = 0.87079'"
      ],
      "text/markdown": [
       "'Accuracy = 0.87079'"
      ],
      "text/plain": [
       "[1] \"Accuracy = 0.87079\""
      ]
     },
     "metadata": {},
     "output_type": "display_data"
    }
   ],
   "source": [
    "# Predict Survived\n",
    "ev_tree_predictions <- predict(ev_tree_model, test)\n",
    "confusion_matrix <- table(ev_tree_predictions, test$Survived) #confusion Matrix\n",
    "confusion_matrix\n",
    "error <- mean(test$Survived != ev_tree_predictions) # Misclassification error\n",
    "paste('Accuracy =', round(1 - error, 5))"
   ]
  },
  {
   "cell_type": "markdown",
   "metadata": {},
   "source": [
    "### Alberi di Decisione con Pacchetto RANDOM FOREST"
   ]
  },
  {
   "cell_type": "markdown",
   "metadata": {},
   "source": [
    "Il random forest è un ensemble method che si basa su alberi decisionali costruendo una foresta di molti alberi. Ciò si ottiene mediante il campionamento casuale dei dati di training durante la costruzione degli alberi e la selezione casuale di sottoinsiemi di variabili durante la divisione dei nodi.\n",
    "\n",
    "L'uso di più set di dati casuali per costruire degli alberi è noto come aggregazione bootstrap (bagging). Ogni punto del set di dati ha la stessa probabilità di essere scelto e può apparire più volte in un sottoinsieme. Questi campioni di bootstrap vengono quindi inviati come dati di training a più alberi decisionali.\n",
    "\n",
    "Le previsioni possono quindi essere effettuate prendendo il voto della maggioranza su tutti gli alberi (per problemi di classificazione) o facendo la media dei risultati su tutti gli alberi (per problemi di regressione). Questo è essenzialmente il modo in cui funziona l'algoritmo del random forest. Il random forest corregge l'abitudine degli alberi decisionali di andare in overfitting sul proprio set di training.\n",
    "\n",
    "#### Bagging:\n",
    "Supponiamo di avere un set di dati di dimensione N. Da questo si crea un campione (cioè un sottoinsieme) di dimensione n (n inferiore o uguale a N) scegliendo n punti casuali con reinserimento. \"In modo casuale\" significa che ogni punto del set di dati ha la stessa probabilità di essere scelto e con \"reinserimento\" significa che un punto dati specifico può apparire più di una volta nel sottoinsieme. L'algoritmo fa questo M volte per creare M campioni di uguale dimensione di dimensione n ciascuno.\n",
    "\n",
    "Poiché un campione bagged viene creato mediante selezione con reinserimento, in genere ci saranno alcuni punti che non sono selezionati. Si può infatti dimostrare che, in media, ogni campione utilizzerà circa due terzi dei dati disponibili. Questo ci offre un modo intelligente per stimare l'errore come parte del processo di costruzione del modello.\n",
    "\n",
    "Ecco come:\n",
    "\n",
    "Per ogni osservazione, si ottiene delle previsioni su alberi in cui il dato era *out of bag*. Dal risultato sopra menzionato, ciò produrrà circa M/3 previsioni per osservazioni (perché un terzo delle osservazioni è *out of bag*). Si prende il voto di maggioranza di queste M/3 previsioni come valore previsto per l'osservazione. Si può fare questo per l'intero set di dati. Da queste previsioni *out of bag* per l'intero set di dati, possiamo stimare l'errore complessivo calcolando un errore di classificazione (conteggio delle previsioni corrette diviso per N) per problemi di classificazione o la radice dell'errore quadratico medio per problemi di regressione. Ciò significa che non è necessario disporre di un set di dati di test separato.\n",
    "\n",
    "#### Utilizzo di Sottoinsiemi di Variabili Predittive\n",
    "Sebbene il bagging riduca in qualche modo l'overfitting, non risolve completamente il problema. Il motivo è che nella maggior parte dei set di dati un piccolo numero di predittori tende a dominare sugli altri. Questi predittori tendono ad essere selezionati nei primi split e quindi influenzano le forme e le dimensioni di una frazione significativa di alberi nella foresta. Cioè, forti predittori aumentano le correlazioni tra gli alberi che tendono a ostacolare la riduzione della varianza.\n",
    "\n",
    "Un modo semplice per aggirare questo problema è utilizzare un sottoinsieme casuale di variabili in ogni split. Ciò evita la sovrarappresentazione delle variabili dominanti e crea così una foresta più diversificata. Questo è esattamente ciò che fa l'algoritmo random forest.\n",
    "\n",
    "#### Valori di Deafult\n",
    "I parametri chiave per l'algoritmo randomForest sono il numero di alberi (*ntree*) e il numero di variabili da considerare per lo split (*mtry*). L'algoritmo imposta un valore predefinito di 500 per *ntree* e imposta *mtry* alla radice quadrata del numero di predittori per problemi di classificazione o un terzo del numero totale di predittori per la regressione. Questi valori predefiniti possono essere sovrascritti fornendo esplicitamente i valori per queste variabili."
   ]
  },
  {
   "cell_type": "markdown",
   "metadata": {},
   "source": [
    "Per testarlo sul dataset del Titanic come prima cosa dunque creiamo il nostro modello richiamando la funzione randomForest e stampando i risultati."
   ]
  },
  {
   "cell_type": "code",
   "execution_count": 64,
   "metadata": {},
   "outputs": [
    {
     "name": "stdout",
     "output_type": "stream",
     "text": [
      "\n",
      "Call:\n",
      " randomForest(formula = as.formula(formula), data = train, importance = TRUE) \n",
      "               Type of random forest: classification\n",
      "                     Number of trees: 500\n",
      "No. of variables tried at each split: 2\n",
      "\n",
      "        OOB estimate of  error rate: 17.67%\n",
      "Confusion matrix:\n",
      "    0   1 class.error\n",
      "0 395  44   0.1002278\n",
      "1  82 192   0.2992701\n"
     ]
    }
   ],
   "source": [
    "# Let’s ensure these results can be replicated\n",
    "set.seed(2020)\n",
    "\n",
    "random_forest_model <- randomForest(as.formula(formula), data = train, importance=TRUE)\n",
    "print(random_forest_model) # view results"
   ]
  },
  {
   "cell_type": "markdown",
   "metadata": {},
   "source": [
    "Mostriamo ora grafici degli errori."
   ]
  },
  {
   "cell_type": "code",
   "execution_count": 65,
   "metadata": {},
   "outputs": [
    {
     "data": {
      "image/png": "[encoded data removed]",
      "text/plain": [
       "Plot with title \"Random Forest Model - Errors Plot\""
      ]
     },
     "metadata": {
      "image/png": {
       "height": 420,
       "width": 420
      }
     },
     "output_type": "display_data"
    }
   ],
   "source": [
    "# Plot errors\n",
    "plot(random_forest_model, main = \"Random Forest Model - Errors Plot\")"
   ]
  },
  {
   "cell_type": "markdown",
   "metadata": {},
   "source": [
    "Il grafico degli errori è utile per valutare le prestazioni del modello rispetto al numero di alberi scelti per il Random Forest. Le linee colorate rappresentano le nostre classi previste di sopravvissuti (verdi) o morti (rossi), mentre il nero rappresenta i campioni *out of bag*. Mostra chiaramente una forte riduzione dell'errore sui primi 50 alberi circa che si stabilizza con miglioramenti più piccoli nel tasso di errore osservati fino a 500 alberi."
   ]
  },
  {
   "cell_type": "markdown",
   "metadata": {},
   "source": [
    "Il Random Forest fornisce anche misure di importanza delle variabili. Il calcolo di queste è abilitato impostando *importance*, un parametro booleano, su TRUE. L'algoritmo calcola due misure di importanza variabile: diminuzione media in Gini e diminuzione media dell'accuratezza.\n",
    "\n",
    "In primo luogo, *Mean Decrease Accuracy*, che valuta la riduzione osservata nelle prestazioni del modello senza ciascuna variabile. In altre parole, una forte diminuzione dell'accuratezza del modello sarebbe prevista per predittori forti.\n",
    "\n",
    "In secondo luogo, *Mean Decrease Gini* misura quanto sono puri i nodi alla fine dell'albero. Allo stesso modo è una valutazione per esaminare le prestazioni del modello se ciascuna variabile viene tolta. Un punteggio alto indica l'alta importanza della variabile."
   ]
  },
  {
   "cell_type": "markdown",
   "metadata": {},
   "source": [
    "Mostriamo l'importanza delle variabili di questo modello:"
   ]
  },
  {
   "cell_type": "code",
   "execution_count": 66,
   "metadata": {},
   "outputs": [
    {
     "data": {
      "text/html": [
       "<table>\n",
       "<caption>A matrix: 8 × 4 of type dbl</caption>\n",
       "<thead>\n",
       "\t<tr><th></th><th scope=col>0</th><th scope=col>1</th><th scope=col>MeanDecreaseAccuracy</th><th scope=col>MeanDecreaseGini</th></tr>\n",
       "</thead>\n",
       "<tbody>\n",
       "\t<tr><th scope=row>Pclass</th><td>23.570727</td><td>32.442038</td><td>36.758419</td><td>30.197368</td></tr>\n",
       "\t<tr><th scope=row>Sex</th><td>26.573635</td><td>19.139312</td><td>27.578597</td><td>45.767257</td></tr>\n",
       "\t<tr><th scope=row>Age</th><td> 8.579832</td><td>15.021211</td><td>17.958849</td><td>32.244296</td></tr>\n",
       "\t<tr><th scope=row>Fare</th><td>17.320162</td><td>17.901036</td><td>26.139029</td><td>19.048505</td></tr>\n",
       "\t<tr><th scope=row>Embarked</th><td> 5.139593</td><td> 5.745007</td><td> 7.964888</td><td> 8.323401</td></tr>\n",
       "\t<tr><th scope=row>Title</th><td>24.474178</td><td>18.759810</td><td>26.627571</td><td>50.953228</td></tr>\n",
       "\t<tr><th scope=row>FamilySize</th><td>23.457098</td><td> 5.201201</td><td>24.465447</td><td>18.865409</td></tr>\n",
       "\t<tr><th scope=row>IsAlone</th><td> 7.334096</td><td> 4.534312</td><td>10.062222</td><td> 4.424519</td></tr>\n",
       "</tbody>\n",
       "</table>\n"
      ],
      "text/latex": [
       "A matrix: 8 × 4 of type dbl\n",
       "\\begin{tabular}{r|llll}\n",
       "  & 0 & 1 & MeanDecreaseAccuracy & MeanDecreaseGini\\\\\n",
       "\\hline\n",
       "\tPclass & 23.570727 & 32.442038 & 36.758419 & 30.197368\\\\\n",
       "\tSex & 26.573635 & 19.139312 & 27.578597 & 45.767257\\\\\n",
       "\tAge &  8.579832 & 15.021211 & 17.958849 & 32.244296\\\\\n",
       "\tFare & 17.320162 & 17.901036 & 26.139029 & 19.048505\\\\\n",
       "\tEmbarked &  5.139593 &  5.745007 &  7.964888 &  8.323401\\\\\n",
       "\tTitle & 24.474178 & 18.759810 & 26.627571 & 50.953228\\\\\n",
       "\tFamilySize & 23.457098 &  5.201201 & 24.465447 & 18.865409\\\\\n",
       "\tIsAlone &  7.334096 &  4.534312 & 10.062222 &  4.424519\\\\\n",
       "\\end{tabular}\n"
      ],
      "text/markdown": [
       "\n",
       "A matrix: 8 × 4 of type dbl\n",
       "\n",
       "| <!--/--> | 0 | 1 | MeanDecreaseAccuracy | MeanDecreaseGini |\n",
       "|---|---|---|---|---|\n",
       "| Pclass | 23.570727 | 32.442038 | 36.758419 | 30.197368 |\n",
       "| Sex | 26.573635 | 19.139312 | 27.578597 | 45.767257 |\n",
       "| Age |  8.579832 | 15.021211 | 17.958849 | 32.244296 |\n",
       "| Fare | 17.320162 | 17.901036 | 26.139029 | 19.048505 |\n",
       "| Embarked |  5.139593 |  5.745007 |  7.964888 |  8.323401 |\n",
       "| Title | 24.474178 | 18.759810 | 26.627571 | 50.953228 |\n",
       "| FamilySize | 23.457098 |  5.201201 | 24.465447 | 18.865409 |\n",
       "| IsAlone |  7.334096 |  4.534312 | 10.062222 |  4.424519 |\n",
       "\n"
      ],
      "text/plain": [
       "           0         1         MeanDecreaseAccuracy MeanDecreaseGini\n",
       "Pclass     23.570727 32.442038 36.758419            30.197368       \n",
       "Sex        26.573635 19.139312 27.578597            45.767257       \n",
       "Age         8.579832 15.021211 17.958849            32.244296       \n",
       "Fare       17.320162 17.901036 26.139029            19.048505       \n",
       "Embarked    5.139593  5.745007  7.964888             8.323401       \n",
       "Title      24.474178 18.759810 26.627571            50.953228       \n",
       "FamilySize 23.457098  5.201201 24.465447            18.865409       \n",
       "IsAlone     7.334096  4.534312 10.062222             4.424519       "
      ]
     },
     "metadata": {},
     "output_type": "display_data"
    },
    {
     "data": {
      "image/png": "[encoded data removed]",
      "text/plain": [
       "plot without title"
      ]
     },
     "metadata": {
      "image/png": {
       "height": 420,
       "width": 420
      }
     },
     "output_type": "display_data"
    }
   ],
   "source": [
    "# Plot variables importance\n",
    "importance(random_forest_model) # importance of each predictor\n",
    "varImpPlot(random_forest_model, main = \"Random Forest - Variable Importance\", cex=1.2)"
   ]
  },
  {
   "cell_type": "markdown",
   "metadata": {},
   "source": [
    "Ed andiamo poi a predirre i passeggeri sopravvisuti sul test set e calcoliamo la matrice di confusione e l'accuratezza della nostra predizione attraverso il *misclassification error*."
   ]
  },
  {
   "cell_type": "code",
   "execution_count": 67,
   "metadata": {},
   "outputs": [
    {
     "data": {
      "text/plain": [
       "                         \n",
       "random_forest_predictions   0   1\n",
       "                        0 100  15\n",
       "                        1  10  53"
      ]
     },
     "metadata": {},
     "output_type": "display_data"
    },
    {
     "data": {
      "text/html": [
       "'Accuracy = 0.85955'"
      ],
      "text/latex": [
       "'Accuracy = 0.85955'"
      ],
      "text/markdown": [
       "'Accuracy = 0.85955'"
      ],
      "text/plain": [
       "[1] \"Accuracy = 0.85955\""
      ]
     },
     "metadata": {},
     "output_type": "display_data"
    }
   ],
   "source": [
    "# Random forest predictions\n",
    "random_forest_predictions <- predict(random_forest_model, test)\n",
    "confusion_matrix <- table(random_forest_predictions, test$Survived) #confusion Matrix\n",
    "confusion_matrix\n",
    "error <- mean(test$Survived != random_forest_predictions) # Misclassification error\n",
    "paste('Accuracy =', round(1 - error, 5))"
   ]
  },
  {
   "cell_type": "markdown",
   "metadata": {},
   "source": [
    "Infine, completiamo con un grafico della curva ROC (Receiver Operating Characteristic) e calcoliamo l'AUC (Area Under The Curve)."
   ]
  },
  {
   "cell_type": "code",
   "execution_count": 68,
   "metadata": {},
   "outputs": [
    {
     "name": "stderr",
     "output_type": "stream",
     "text": [
      "Setting levels: control = 0, case = 1\n",
      "\n",
      "Setting direction: controls < cases\n",
      "\n"
     ]
    },
    {
     "data": {
      "text/html": [
       "'AUC = 0.86464343315099'"
      ],
      "text/latex": [
       "'AUC = 0.86464343315099'"
      ],
      "text/markdown": [
       "'AUC = 0.86464343315099'"
      ],
      "text/plain": [
       "[1] \"AUC = 0.86464343315099\""
      ]
     },
     "metadata": {},
     "output_type": "display_data"
    },
    {
     "data": {
      "image/png": "[encoded data removed]",
      "text/plain": [
       "Plot with title \"Random Forest - ROC Curve\""
      ]
     },
     "metadata": {
      "image/png": {
       "height": 420,
       "width": 420
      }
     },
     "output_type": "display_data"
    }
   ],
   "source": [
    "# ROC Curve and print AUROC\n",
    "random_forest_roc <- roc(train$Survived, random_forest_model$votes[,2])\n",
    "plot(random_forest_roc, main=\"Random Forest - ROC Curve\")\n",
    "paste('AUC =', auc(random_forest_roc))"
   ]
  },
  {
   "cell_type": "markdown",
   "metadata": {},
   "source": [
    "La curva ROC traccia i tassi di veri positivi (asse y, sensibilità) rispetto ai tassi di falsi positivi (asse x, specificità).\n",
    "\n",
    "Quando due distribuzioni si sovrappongono, (cioè varianza dei passeggeri sopravvissuti e morti), introduciamo un errore di tipo 1 e tipo 2. A seconda della soglia, tali tassi di errore possono essere ridotti al minimo o massimizzati. Un punteggio AUC di 0,86 indica una probabilità dell'86% circa che questo modello sarà in grado di distinguere tra sopravvissuti e non sopravvissuti.\n",
    "\n",
    "Un modello eccellente ha AUC vicino a 1, il che significa che ha una buona misura di separabilità. Un modello scadente ha AUC vicino allo 0, il che significa che ha la peggiore misura di separabilità, prevede 0 come 1 e 1 come 0. E quando AUC è 0.5, significa che il modello non ha alcuna capacità di separazione delle classi."
   ]
  },
  {
   "cell_type": "markdown",
   "metadata": {},
   "source": [
    "#### Tuning dei Parametri per il Random Forest"
   ]
  },
  {
   "cell_type": "markdown",
   "metadata": {},
   "source": [
    "Quando si esegue una Random Forest, ci sono molti parametri che possono essere controllati, i più importanti come spiegato precedentemente sono i seguenti:\n",
    "- mtry: il numero di variabili campionate casualmente come candidate in ogni split. Il valore predefinito è la radice quadrata del numero di variabili.\n",
    "- ntree: il numero di alberi da crescere. Un numero maggiore di alberi produce modelli e stime di importanza più stabili. Troppi alberi possono essere eccessivi per la qualità del modello."
   ]
  },
  {
   "cell_type": "markdown",
   "metadata": {},
   "source": [
    "Di seguito dunque andiamo a cercare di trovare quali sono i valori ottimali per le due variabili precedenti utilizzando una grid search (*ntree* tra 500 e 2000 in incrementi di 500). Il metodo *tune* di R ci consente di ottenere i risultati ricercati."
   ]
  },
  {
   "cell_type": "code",
   "execution_count": null,
   "metadata": {},
   "outputs": [],
   "source": [
    "# Let’s ensure these results can be replicated\n",
    "set.seed(2020)\n",
    "\n",
    "# Random Forest with tuned parameters\n",
    "tuned_random_forest <- tune(randomForest, train.x = as.formula(formula), data = train, validation.x = test,\n",
    "                            ranges = list(mtry = 1:(ncol(train)-1), ntree = seq(500, 2000, 500)), importance=TRUE)\n",
    "plot(tuned_random_forest)"
   ]
  },
  {
   "cell_type": "markdown",
   "metadata": {},
   "source": [
    "Stampo il valore ottimale trovato dei parametri e stampo il modello migliore con quei parametri."
   ]
  },
  {
   "cell_type": "code",
   "execution_count": null,
   "metadata": {},
   "outputs": [],
   "source": [
    "# Search best model\n",
    "best_model_random_forest <- tuned_random_forest$best.model\n",
    "tuned_random_forest$best.parameters\n",
    "print(best_model_random_forest) # view results"
   ]
  },
  {
   "cell_type": "markdown",
   "metadata": {},
   "source": [
    "Succesivamente come fatto precedentemente valutiamo ulteriormente il modello mostrando prima il plot degli errori."
   ]
  },
  {
   "cell_type": "code",
   "execution_count": null,
   "metadata": {},
   "outputs": [],
   "source": [
    "# Plot errors\n",
    "plot(best_model_random_forest, main = \"Random Forest Tunded Model - Errors Plot\")"
   ]
  },
  {
   "cell_type": "markdown",
   "metadata": {},
   "source": [
    "Mostriamo poi l'importanza delle variabili di questo modello:"
   ]
  },
  {
   "cell_type": "code",
   "execution_count": null,
   "metadata": {},
   "outputs": [],
   "source": [
    "# Variable importance\n",
    "importance(best_model_random_forest) # importance of each predictor\n",
    "varImpPlot(best_model_random_forest, main = \"Random Forest Tunded Model - Variable Importance\", cex=1.2)"
   ]
  },
  {
   "cell_type": "markdown",
   "metadata": {},
   "source": [
    "Ed andiamo poi a predirre i passeggeri sopravvisuti sul test set e calcoliamo la matrice di confusione e l'accuratezza della nostra predizione attraverso il *misclassification error*."
   ]
  },
  {
   "cell_type": "code",
   "execution_count": null,
   "metadata": {},
   "outputs": [],
   "source": [
    "# Accuracy\n",
    "random_forest_predictions <- predict(best_model_random_forest, test)\n",
    "confusion_matrix <- table(random_forest_predictions, test$Survived) #confusion Matrix\n",
    "confusion_matrix\n",
    "error <- mean(test$Survived != random_forest_predictions) # Misclassification error\n",
    "paste('Accuracy =', round(1 - error, 5))"
   ]
  },
  {
   "cell_type": "markdown",
   "metadata": {},
   "source": [
    "Infine, completiamo con un grafico della curva ROC (Receiver Operating Characteristic) e calcoliamo l'AUC (Area Under The Curve)."
   ]
  },
  {
   "cell_type": "code",
   "execution_count": null,
   "metadata": {},
   "outputs": [],
   "source": [
    "# ROC Curve\n",
    "random_forest_roc <- roc(train$Survived, best_model_random_forest$votes[,2])\n",
    "plot(random_forest_roc, main=\"Random Forest Tunded Model - ROC Curve\")\n",
    "paste('AUC =', auc(random_forest_roc))"
   ]
  }
 ],
 "metadata": {
  "kernelspec": {
   "display_name": "R",
   "language": "R",
   "name": "ir"
  },
  "language_info": {
   "codemirror_mode": "r",
   "file_extension": ".r",
   "mimetype": "text/x-r-source",
   "name": "R",
   "pygments_lexer": "r",
   "version": "4.0.3"
  }
 },
 "nbformat": 4,
 "nbformat_minor": 4
}
